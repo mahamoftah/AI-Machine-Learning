{
  "cells": [
    {
      "cell_type": "markdown",
      "metadata": {
        "id": "ySsIPBRiorxK"
      },
      "source": [
        "**Dataset**\n",
        "labeled datasset collected from twitter (Lab 1 - Hate Speech.tsv)\n",
        "\n",
        "**Objective**\n",
        "classify tweets containing hate speech from other tweets. <br>\n",
        "0 -> no hate speech <br>\n",
        "1 -> contains hate speech <br>\n",
        "\n",
        "**Total Estimated Time = 90-120 Mins**\n",
        "\n",
        "**Evaluation metric**\n",
        "macro f1 score"
      ]
    },
    {
      "cell_type": "markdown",
      "metadata": {
        "id": "v-6lrKz6orxT"
      },
      "source": [
        "### Import used libraries"
      ]
    },
    {
      "cell_type": "code",
      "source": [
        "pip install optuna"
      ],
      "metadata": {
        "colab": {
          "base_uri": "https://localhost:8080/"
        },
        "id": "TFYPin0oIbW4",
        "outputId": "ad881ff2-b6fe-4701-9b03-929be74ca42a"
      },
      "execution_count": 1,
      "outputs": [
        {
          "output_type": "stream",
          "name": "stdout",
          "text": [
            "Collecting optuna\n",
            "  Downloading optuna-3.6.1-py3-none-any.whl (380 kB)\n",
            "\u001b[2K     \u001b[90m━━━━━━━━━━━━━━━━━━━━━━━━━━━━━━━━━━━━━━━━\u001b[0m \u001b[32m380.1/380.1 kB\u001b[0m \u001b[31m2.8 MB/s\u001b[0m eta \u001b[36m0:00:00\u001b[0m\n",
            "\u001b[?25hCollecting alembic>=1.5.0 (from optuna)\n",
            "  Downloading alembic-1.13.1-py3-none-any.whl (233 kB)\n",
            "\u001b[2K     \u001b[90m━━━━━━━━━━━━━━━━━━━━━━━━━━━━━━━━━━━━━━━━\u001b[0m \u001b[32m233.4/233.4 kB\u001b[0m \u001b[31m23.9 MB/s\u001b[0m eta \u001b[36m0:00:00\u001b[0m\n",
            "\u001b[?25hCollecting colorlog (from optuna)\n",
            "  Downloading colorlog-6.8.2-py3-none-any.whl (11 kB)\n",
            "Requirement already satisfied: numpy in /usr/local/lib/python3.10/dist-packages (from optuna) (1.25.2)\n",
            "Requirement already satisfied: packaging>=20.0 in /usr/local/lib/python3.10/dist-packages (from optuna) (24.0)\n",
            "Requirement already satisfied: sqlalchemy>=1.3.0 in /usr/local/lib/python3.10/dist-packages (from optuna) (2.0.30)\n",
            "Requirement already satisfied: tqdm in /usr/local/lib/python3.10/dist-packages (from optuna) (4.66.4)\n",
            "Requirement already satisfied: PyYAML in /usr/local/lib/python3.10/dist-packages (from optuna) (6.0.1)\n",
            "Collecting Mako (from alembic>=1.5.0->optuna)\n",
            "  Downloading Mako-1.3.5-py3-none-any.whl (78 kB)\n",
            "\u001b[2K     \u001b[90m━━━━━━━━━━━━━━━━━━━━━━━━━━━━━━━━━━━━━━━━\u001b[0m \u001b[32m78.6/78.6 kB\u001b[0m \u001b[31m11.3 MB/s\u001b[0m eta \u001b[36m0:00:00\u001b[0m\n",
            "\u001b[?25hRequirement already satisfied: typing-extensions>=4 in /usr/local/lib/python3.10/dist-packages (from alembic>=1.5.0->optuna) (4.11.0)\n",
            "Requirement already satisfied: greenlet!=0.4.17 in /usr/local/lib/python3.10/dist-packages (from sqlalchemy>=1.3.0->optuna) (3.0.3)\n",
            "Requirement already satisfied: MarkupSafe>=0.9.2 in /usr/local/lib/python3.10/dist-packages (from Mako->alembic>=1.5.0->optuna) (2.1.5)\n",
            "Installing collected packages: Mako, colorlog, alembic, optuna\n",
            "Successfully installed Mako-1.3.5 alembic-1.13.1 colorlog-6.8.2 optuna-3.6.1\n"
          ]
        }
      ]
    },
    {
      "cell_type": "code",
      "execution_count": 105,
      "metadata": {
        "id": "ulsPouTrINvR"
      },
      "outputs": [],
      "source": [
        "from sklearn.model_selection import train_test_split\n",
        "from sklearn.linear_model import LogisticRegression\n",
        "from sklearn.feature_extraction.text import CountVectorizer, TfidfVectorizer\n",
        "import re\n",
        "import string\n",
        "from sklearn.metrics import f1_score\n",
        "from sklearn.model_selection import cross_val_score\n",
        "import optuna\n",
        "import tqdm\n",
        "import spacy\n",
        "import gensim\n",
        "from gensim.models import Word2Vec\n",
        "from gensim.models import KeyedVectors\n",
        "import numpy as np"
      ]
    },
    {
      "cell_type": "code",
      "execution_count": 3,
      "metadata": {
        "id": "eXUPo3g4orxV"
      },
      "outputs": [],
      "source": [
        "import pandas as pd\n",
        "pd.set_option('display.max_rows', 500)\n",
        "pd.set_option('display.max_colwidth', 500)"
      ]
    },
    {
      "cell_type": "markdown",
      "metadata": {
        "id": "fG8MkuvjorxX"
      },
      "source": [
        "### Load Dataset"
      ]
    },
    {
      "cell_type": "markdown",
      "metadata": {
        "id": "FNjn7bt_INvT"
      },
      "source": [
        "###### Note: search how to load the data from tsv file"
      ]
    },
    {
      "cell_type": "code",
      "execution_count": 123,
      "metadata": {
        "id": "BYeqhp66orxY",
        "colab": {
          "base_uri": "https://localhost:8080/",
          "height": 206
        },
        "outputId": "e72ed507-29e0-49ca-fb26-b60358b8fa60"
      },
      "outputs": [
        {
          "output_type": "execute_result",
          "data": {
            "text/plain": [
              "   id  label  \\\n",
              "0   1      0   \n",
              "1   2      0   \n",
              "2   3      0   \n",
              "3   4      0   \n",
              "4   5      0   \n",
              "\n",
              "                                                                                                                        tweet  \n",
              "0                       @user when a father is dysfunctional and is so selfish he drags his kids into his dysfunction.   #run  \n",
              "1  @user @user thanks for #lyft credit i can't use cause they don't offer wheelchair vans in pdx.    #disapointed #getthanked  \n",
              "2                                                                                                         bihday your majesty  \n",
              "3                                        #model   i love u take with u all the time in urð±!!! ðððð\n",
              "ð¦ð¦ð¦  \n",
              "4                                                                                      factsguide: society now    #motivation  "
            ],
            "text/html": [
              "\n",
              "  <div id=\"df-803188e7-3c9c-44d6-80d9-ecb05a8c83f3\" class=\"colab-df-container\">\n",
              "    <div>\n",
              "<style scoped>\n",
              "    .dataframe tbody tr th:only-of-type {\n",
              "        vertical-align: middle;\n",
              "    }\n",
              "\n",
              "    .dataframe tbody tr th {\n",
              "        vertical-align: top;\n",
              "    }\n",
              "\n",
              "    .dataframe thead th {\n",
              "        text-align: right;\n",
              "    }\n",
              "</style>\n",
              "<table border=\"1\" class=\"dataframe\">\n",
              "  <thead>\n",
              "    <tr style=\"text-align: right;\">\n",
              "      <th></th>\n",
              "      <th>id</th>\n",
              "      <th>label</th>\n",
              "      <th>tweet</th>\n",
              "    </tr>\n",
              "  </thead>\n",
              "  <tbody>\n",
              "    <tr>\n",
              "      <th>0</th>\n",
              "      <td>1</td>\n",
              "      <td>0</td>\n",
              "      <td>@user when a father is dysfunctional and is so selfish he drags his kids into his dysfunction.   #run</td>\n",
              "    </tr>\n",
              "    <tr>\n",
              "      <th>1</th>\n",
              "      <td>2</td>\n",
              "      <td>0</td>\n",
              "      <td>@user @user thanks for #lyft credit i can't use cause they don't offer wheelchair vans in pdx.    #disapointed #getthanked</td>\n",
              "    </tr>\n",
              "    <tr>\n",
              "      <th>2</th>\n",
              "      <td>3</td>\n",
              "      <td>0</td>\n",
              "      <td>bihday your majesty</td>\n",
              "    </tr>\n",
              "    <tr>\n",
              "      <th>3</th>\n",
              "      <td>4</td>\n",
              "      <td>0</td>\n",
              "      <td>#model   i love u take with u all the time in urð±!!! ððððð¦ð¦ð¦</td>\n",
              "    </tr>\n",
              "    <tr>\n",
              "      <th>4</th>\n",
              "      <td>5</td>\n",
              "      <td>0</td>\n",
              "      <td>factsguide: society now    #motivation</td>\n",
              "    </tr>\n",
              "  </tbody>\n",
              "</table>\n",
              "</div>\n",
              "    <div class=\"colab-df-buttons\">\n",
              "\n",
              "  <div class=\"colab-df-container\">\n",
              "    <button class=\"colab-df-convert\" onclick=\"convertToInteractive('df-803188e7-3c9c-44d6-80d9-ecb05a8c83f3')\"\n",
              "            title=\"Convert this dataframe to an interactive table.\"\n",
              "            style=\"display:none;\">\n",
              "\n",
              "  <svg xmlns=\"http://www.w3.org/2000/svg\" height=\"24px\" viewBox=\"0 -960 960 960\">\n",
              "    <path d=\"M120-120v-720h720v720H120Zm60-500h600v-160H180v160Zm220 220h160v-160H400v160Zm0 220h160v-160H400v160ZM180-400h160v-160H180v160Zm440 0h160v-160H620v160ZM180-180h160v-160H180v160Zm440 0h160v-160H620v160Z\"/>\n",
              "  </svg>\n",
              "    </button>\n",
              "\n",
              "  <style>\n",
              "    .colab-df-container {\n",
              "      display:flex;\n",
              "      gap: 12px;\n",
              "    }\n",
              "\n",
              "    .colab-df-convert {\n",
              "      background-color: #E8F0FE;\n",
              "      border: none;\n",
              "      border-radius: 50%;\n",
              "      cursor: pointer;\n",
              "      display: none;\n",
              "      fill: #1967D2;\n",
              "      height: 32px;\n",
              "      padding: 0 0 0 0;\n",
              "      width: 32px;\n",
              "    }\n",
              "\n",
              "    .colab-df-convert:hover {\n",
              "      background-color: #E2EBFA;\n",
              "      box-shadow: 0px 1px 2px rgba(60, 64, 67, 0.3), 0px 1px 3px 1px rgba(60, 64, 67, 0.15);\n",
              "      fill: #174EA6;\n",
              "    }\n",
              "\n",
              "    .colab-df-buttons div {\n",
              "      margin-bottom: 4px;\n",
              "    }\n",
              "\n",
              "    [theme=dark] .colab-df-convert {\n",
              "      background-color: #3B4455;\n",
              "      fill: #D2E3FC;\n",
              "    }\n",
              "\n",
              "    [theme=dark] .colab-df-convert:hover {\n",
              "      background-color: #434B5C;\n",
              "      box-shadow: 0px 1px 3px 1px rgba(0, 0, 0, 0.15);\n",
              "      filter: drop-shadow(0px 1px 2px rgba(0, 0, 0, 0.3));\n",
              "      fill: #FFFFFF;\n",
              "    }\n",
              "  </style>\n",
              "\n",
              "    <script>\n",
              "      const buttonEl =\n",
              "        document.querySelector('#df-803188e7-3c9c-44d6-80d9-ecb05a8c83f3 button.colab-df-convert');\n",
              "      buttonEl.style.display =\n",
              "        google.colab.kernel.accessAllowed ? 'block' : 'none';\n",
              "\n",
              "      async function convertToInteractive(key) {\n",
              "        const element = document.querySelector('#df-803188e7-3c9c-44d6-80d9-ecb05a8c83f3');\n",
              "        const dataTable =\n",
              "          await google.colab.kernel.invokeFunction('convertToInteractive',\n",
              "                                                    [key], {});\n",
              "        if (!dataTable) return;\n",
              "\n",
              "        const docLinkHtml = 'Like what you see? Visit the ' +\n",
              "          '<a target=\"_blank\" href=https://colab.research.google.com/notebooks/data_table.ipynb>data table notebook</a>'\n",
              "          + ' to learn more about interactive tables.';\n",
              "        element.innerHTML = '';\n",
              "        dataTable['output_type'] = 'display_data';\n",
              "        await google.colab.output.renderOutput(dataTable, element);\n",
              "        const docLink = document.createElement('div');\n",
              "        docLink.innerHTML = docLinkHtml;\n",
              "        element.appendChild(docLink);\n",
              "      }\n",
              "    </script>\n",
              "  </div>\n",
              "\n",
              "\n",
              "<div id=\"df-62334597-032e-4617-a5c0-0f02d1d9bcd6\">\n",
              "  <button class=\"colab-df-quickchart\" onclick=\"quickchart('df-62334597-032e-4617-a5c0-0f02d1d9bcd6')\"\n",
              "            title=\"Suggest charts\"\n",
              "            style=\"display:none;\">\n",
              "\n",
              "<svg xmlns=\"http://www.w3.org/2000/svg\" height=\"24px\"viewBox=\"0 0 24 24\"\n",
              "     width=\"24px\">\n",
              "    <g>\n",
              "        <path d=\"M19 3H5c-1.1 0-2 .9-2 2v14c0 1.1.9 2 2 2h14c1.1 0 2-.9 2-2V5c0-1.1-.9-2-2-2zM9 17H7v-7h2v7zm4 0h-2V7h2v10zm4 0h-2v-4h2v4z\"/>\n",
              "    </g>\n",
              "</svg>\n",
              "  </button>\n",
              "\n",
              "<style>\n",
              "  .colab-df-quickchart {\n",
              "      --bg-color: #E8F0FE;\n",
              "      --fill-color: #1967D2;\n",
              "      --hover-bg-color: #E2EBFA;\n",
              "      --hover-fill-color: #174EA6;\n",
              "      --disabled-fill-color: #AAA;\n",
              "      --disabled-bg-color: #DDD;\n",
              "  }\n",
              "\n",
              "  [theme=dark] .colab-df-quickchart {\n",
              "      --bg-color: #3B4455;\n",
              "      --fill-color: #D2E3FC;\n",
              "      --hover-bg-color: #434B5C;\n",
              "      --hover-fill-color: #FFFFFF;\n",
              "      --disabled-bg-color: #3B4455;\n",
              "      --disabled-fill-color: #666;\n",
              "  }\n",
              "\n",
              "  .colab-df-quickchart {\n",
              "    background-color: var(--bg-color);\n",
              "    border: none;\n",
              "    border-radius: 50%;\n",
              "    cursor: pointer;\n",
              "    display: none;\n",
              "    fill: var(--fill-color);\n",
              "    height: 32px;\n",
              "    padding: 0;\n",
              "    width: 32px;\n",
              "  }\n",
              "\n",
              "  .colab-df-quickchart:hover {\n",
              "    background-color: var(--hover-bg-color);\n",
              "    box-shadow: 0 1px 2px rgba(60, 64, 67, 0.3), 0 1px 3px 1px rgba(60, 64, 67, 0.15);\n",
              "    fill: var(--button-hover-fill-color);\n",
              "  }\n",
              "\n",
              "  .colab-df-quickchart-complete:disabled,\n",
              "  .colab-df-quickchart-complete:disabled:hover {\n",
              "    background-color: var(--disabled-bg-color);\n",
              "    fill: var(--disabled-fill-color);\n",
              "    box-shadow: none;\n",
              "  }\n",
              "\n",
              "  .colab-df-spinner {\n",
              "    border: 2px solid var(--fill-color);\n",
              "    border-color: transparent;\n",
              "    border-bottom-color: var(--fill-color);\n",
              "    animation:\n",
              "      spin 1s steps(1) infinite;\n",
              "  }\n",
              "\n",
              "  @keyframes spin {\n",
              "    0% {\n",
              "      border-color: transparent;\n",
              "      border-bottom-color: var(--fill-color);\n",
              "      border-left-color: var(--fill-color);\n",
              "    }\n",
              "    20% {\n",
              "      border-color: transparent;\n",
              "      border-left-color: var(--fill-color);\n",
              "      border-top-color: var(--fill-color);\n",
              "    }\n",
              "    30% {\n",
              "      border-color: transparent;\n",
              "      border-left-color: var(--fill-color);\n",
              "      border-top-color: var(--fill-color);\n",
              "      border-right-color: var(--fill-color);\n",
              "    }\n",
              "    40% {\n",
              "      border-color: transparent;\n",
              "      border-right-color: var(--fill-color);\n",
              "      border-top-color: var(--fill-color);\n",
              "    }\n",
              "    60% {\n",
              "      border-color: transparent;\n",
              "      border-right-color: var(--fill-color);\n",
              "    }\n",
              "    80% {\n",
              "      border-color: transparent;\n",
              "      border-right-color: var(--fill-color);\n",
              "      border-bottom-color: var(--fill-color);\n",
              "    }\n",
              "    90% {\n",
              "      border-color: transparent;\n",
              "      border-bottom-color: var(--fill-color);\n",
              "    }\n",
              "  }\n",
              "</style>\n",
              "\n",
              "  <script>\n",
              "    async function quickchart(key) {\n",
              "      const quickchartButtonEl =\n",
              "        document.querySelector('#' + key + ' button');\n",
              "      quickchartButtonEl.disabled = true;  // To prevent multiple clicks.\n",
              "      quickchartButtonEl.classList.add('colab-df-spinner');\n",
              "      try {\n",
              "        const charts = await google.colab.kernel.invokeFunction(\n",
              "            'suggestCharts', [key], {});\n",
              "      } catch (error) {\n",
              "        console.error('Error during call to suggestCharts:', error);\n",
              "      }\n",
              "      quickchartButtonEl.classList.remove('colab-df-spinner');\n",
              "      quickchartButtonEl.classList.add('colab-df-quickchart-complete');\n",
              "    }\n",
              "    (() => {\n",
              "      let quickchartButtonEl =\n",
              "        document.querySelector('#df-62334597-032e-4617-a5c0-0f02d1d9bcd6 button');\n",
              "      quickchartButtonEl.style.display =\n",
              "        google.colab.kernel.accessAllowed ? 'block' : 'none';\n",
              "    })();\n",
              "  </script>\n",
              "</div>\n",
              "\n",
              "    </div>\n",
              "  </div>\n"
            ],
            "application/vnd.google.colaboratory.intrinsic+json": {
              "type": "dataframe",
              "variable_name": "df",
              "summary": "{\n  \"name\": \"df\",\n  \"rows\": 31535,\n  \"fields\": [\n    {\n      \"column\": \"id\",\n      \"properties\": {\n        \"dtype\": \"number\",\n        \"std\": 9238,\n        \"min\": 1,\n        \"max\": 31962,\n        \"num_unique_values\": 31535,\n        \"samples\": [\n          822,\n          16265,\n          8867\n        ],\n        \"semantic_type\": \"\",\n        \"description\": \"\"\n      }\n    },\n    {\n      \"column\": \"label\",\n      \"properties\": {\n        \"dtype\": \"number\",\n        \"std\": 0,\n        \"min\": 0,\n        \"max\": 1,\n        \"num_unique_values\": 2,\n        \"samples\": [\n          1,\n          0\n        ],\n        \"semantic_type\": \"\",\n        \"description\": \"\"\n      }\n    },\n    {\n      \"column\": \"tweet\",\n      \"properties\": {\n        \"dtype\": \"string\",\n        \"num_unique_values\": 29130,\n        \"samples\": [\n          \"this obviously  #tcot gets on &amp; #inaspanof maybe #allof two seconds after boarding - thinks he \\\"knows\\\" what\\u00e2\\u0080\\u00a6 \",\n          \"the @user gave #words with #ibbleobble some #fabtastic feedback! we're really  ! \\u00e2\\u0080\\u00a6\"\n        ],\n        \"semantic_type\": \"\",\n        \"description\": \"\"\n      }\n    }\n  ]\n}"
            }
          },
          "metadata": {},
          "execution_count": 123
        }
      ],
      "source": [
        "df = pd.read_csv(\"Lab 1 - Hate Speech.tsv\", sep= \"\\t\")\n",
        "df.head()"
      ]
    },
    {
      "cell_type": "markdown",
      "metadata": {
        "id": "jAXuwkiYINvT"
      },
      "source": [
        "### Data splitting"
      ]
    },
    {
      "cell_type": "markdown",
      "metadata": {
        "id": "75gjJHssINvT"
      },
      "source": [
        "It is a good practice to split the data before EDA helps maintain the integrity of the machine learning process, prevents data leakage, simulates real-world scenarios more accurately, and ensures reliable model performance evaluation on unseen data."
      ]
    },
    {
      "cell_type": "code",
      "execution_count": 169,
      "metadata": {
        "id": "s8NG8t9AINvT"
      },
      "outputs": [],
      "source": [
        "x = df.tweet"
      ]
    },
    {
      "cell_type": "code",
      "execution_count": 170,
      "metadata": {
        "id": "Z1oN7U57INvT"
      },
      "outputs": [],
      "source": [
        "y = df.label"
      ]
    },
    {
      "cell_type": "code",
      "execution_count": 171,
      "metadata": {
        "id": "JMyynVUIINvU"
      },
      "outputs": [],
      "source": [
        "x_train, x_test, y_train, y_test = train_test_split(x, y, test_size=0.2, random_state=0)"
      ]
    },
    {
      "cell_type": "code",
      "execution_count": 172,
      "metadata": {
        "colab": {
          "base_uri": "https://localhost:8080/"
        },
        "id": "2enpfbInINvU",
        "outputId": "c13b75fb-9494-4cee-804a-7e876fd47c72"
      },
      "outputs": [
        {
          "output_type": "execute_result",
          "data": {
            "text/plain": [
              "18275              @user you were my childhood, why are you suppoing those who want to maintain a tax advantage over first time buyers?  \n",
              "7544     note for those who call #wn  for opposing the latest @user ad: damn right we are! get that filth off the net, you race-traitors-\n",
              "18342                                                                                                    i almost always trust brazilians\n",
              "20301                                                  people want to love in the moment, they don't want that forever love ð¯ #truth  \n",
              "15034                                                                    set of 6 glass ... gbp 24.99 get here:  #shop #cool   #home #fun\n",
              "Name: tweet, dtype: object"
            ]
          },
          "metadata": {},
          "execution_count": 172
        }
      ],
      "source": [
        "x_train.head()"
      ]
    },
    {
      "cell_type": "markdown",
      "metadata": {
        "id": "hqWVKi_GorxZ"
      },
      "source": [
        "### EDA on training data"
      ]
    },
    {
      "cell_type": "code",
      "execution_count": 173,
      "metadata": {
        "colab": {
          "base_uri": "https://localhost:8080/"
        },
        "id": "AvNBfYODINvU",
        "outputId": "38f4e9f2-10e0-4b70-b614-b3a0028d2582"
      },
      "outputs": [
        {
          "output_type": "stream",
          "name": "stdout",
          "text": [
            "<class 'pandas.core.series.Series'>\n",
            "Index: 25228 entries, 18275 to 2732\n",
            "Series name: tweet\n",
            "Non-Null Count  Dtype \n",
            "--------------  ----- \n",
            "25228 non-null  object\n",
            "dtypes: object(1)\n",
            "memory usage: 394.2+ KB\n"
          ]
        }
      ],
      "source": [
        "x_train.info()"
      ]
    },
    {
      "cell_type": "markdown",
      "metadata": {
        "id": "R1zxJpFxorxa"
      },
      "source": [
        "- check NaNs"
      ]
    },
    {
      "cell_type": "code",
      "execution_count": 174,
      "metadata": {
        "id": "HVEttSujorxa",
        "colab": {
          "base_uri": "https://localhost:8080/"
        },
        "outputId": "c94f5f72-ab00-4683-9a7a-f3a979a54cd1"
      },
      "outputs": [
        {
          "output_type": "execute_result",
          "data": {
            "text/plain": [
              "0"
            ]
          },
          "metadata": {},
          "execution_count": 174
        }
      ],
      "source": [
        "x_train.isnull().sum()"
      ]
    },
    {
      "cell_type": "markdown",
      "metadata": {
        "id": "UwjbzVaIorxb"
      },
      "source": [
        "- check duplicates"
      ]
    },
    {
      "cell_type": "code",
      "execution_count": 175,
      "metadata": {
        "id": "J_FlBWISorxb",
        "colab": {
          "base_uri": "https://localhost:8080/"
        },
        "outputId": "54e42262-7046-4903-8942-ca8c1b07039e"
      },
      "outputs": [
        {
          "output_type": "execute_result",
          "data": {
            "text/plain": [
              "1832"
            ]
          },
          "metadata": {},
          "execution_count": 175
        }
      ],
      "source": [
        "x_train.duplicated().sum()"
      ]
    },
    {
      "cell_type": "code",
      "execution_count": 176,
      "metadata": {
        "colab": {
          "base_uri": "https://localhost:8080/"
        },
        "id": "8HxV7raRINvV",
        "outputId": "17cb99d4-9699-42b9-c270-240e9a24266d"
      },
      "outputs": [
        {
          "output_type": "execute_result",
          "data": {
            "text/plain": [
              "9280                             #model   i love u take with u all the time in urð±!!! ðððð\n",
              "ð¦ð¦ð¦\n",
              "27552                            #model   i love u take with u all the time in urð±!!! ðððð\n",
              "ð¦ð¦ð¦\n",
              "16238                           #flagday2016   #flag #day #2016 #(30 #photos) buy things about \"flag day 2016\": â¦  \n",
              "30272               @user #feminismiscancer #feminismisterrorism #feminismmuktbharat why  #malevote is ignored  @user\n",
              "21290              i finally found a way how to delete old tweets! you might find it useful as well:    #deletetweets\n",
              "                                                             ...                                                     \n",
              "19721                     ð #smile #smiling top.tags #toptags #smiles #beautifulsmile #smiley #smilee #pretty  â¦\n",
              "797                              #model   i love u take with u all the time in urð±!!! ðððð\n",
              "ð¦ð¦ð¦\n",
              "7599     #zaynmalik   bull up: you will dominate your bull and you will direct it whatever you want it to do. when yo\n",
              "26277                                            @user you might be a libtard if... #libtard  #sjw #liberal #politics\n",
              "30403                          can #lighttherapy help with   or #depression?    #altwaystoheal  #healthy is #happy !!\n",
              "Name: tweet, Length: 1832, dtype: object"
            ]
          },
          "metadata": {},
          "execution_count": 176
        }
      ],
      "source": [
        "duplicates = x_train[x_train.duplicated()]\n",
        "duplicates"
      ]
    },
    {
      "cell_type": "markdown",
      "metadata": {
        "id": "YjIBFc35orxc"
      },
      "source": [
        "- show a representative sample of data texts to find out required preprocessing steps"
      ]
    },
    {
      "cell_type": "code",
      "execution_count": 177,
      "metadata": {
        "id": "zGFKzSCRorxc",
        "colab": {
          "base_uri": "https://localhost:8080/"
        },
        "outputId": "dbadc134-ceaa-4b5a-e867-0adf2fcc8384"
      },
      "outputs": [
        {
          "output_type": "execute_result",
          "data": {
            "text/plain": [
              "18275                      @user you were my childhood, why are you suppoing those who want to maintain a tax advantage over first time buyers?  \n",
              "7544             note for those who call #wn  for opposing the latest @user ad: damn right we are! get that filth off the net, you race-traitors-\n",
              "18342                                                                                                            i almost always trust brazilians\n",
              "20301                                                          people want to love in the moment, they don't want that forever love ð¯ #truth  \n",
              "15034                                                                            set of 6 glass ... gbp 24.99 get here:  #shop #cool   #home #fun\n",
              "23579                                          thank you very much for the s!!! :) :)  @user @user @user    fridayeveryone!   #friday! friday! :)\n",
              "15981                                                                                                                       just   from the hill:\n",
              "1658                                            keep your #marriage #healthy &amp;  ! watch for these 4 signs of problematic conflict   via @user\n",
              "6644                                                                                                              sex stories girl gone wild nude\n",
              "6304                                                               â #cad: holding on to gains for this week - bbh   #blog #silver #gold #forex\n",
              "11355                                                                                         #bestie came to watch aiden play today!   @ the pac\n",
              "28186                                                                                                             what #millennials think about :\n",
              "27097                                            @user not racing so a nice big and fun @user ride is on the cards   #exploring #fitness #healthy\n",
              "13284                                                                                                      i am safe.#i_am #positive #affirmation\n",
              "29145    this orlando shooting is fishy to me. since when do police raid a place in 3 hours? 50 people seems like a lot dead, from one shooter.  \n",
              "7834                                                                      #ojmadeinamerica just reminds us of the biggest fall in america history\n",
              "11774                                               because i finally got #hamiltontickets &amp; i'm just so   @user @user #a #watercolor #writer\n",
              "17523                                @user @user @user who cares? with all the things going on in the world today u think this stupidity matters?\n",
              "15862                                #dreamcatcher   bull up: you will dominate your bull and you will direct it whatever you want it to do. when\n",
              "28674              @user it's a serious problem. even salvadoran sposcaster are bias against mexico   we should be promoting ð not hate httâ¦\n",
              "Name: tweet, dtype: object"
            ]
          },
          "metadata": {},
          "execution_count": 177
        }
      ],
      "source": [
        "x_train.head(20)"
      ]
    },
    {
      "cell_type": "markdown",
      "metadata": {
        "id": "UqdSUtbdorxd"
      },
      "source": [
        "- check dataset balancing"
      ]
    },
    {
      "cell_type": "code",
      "execution_count": 178,
      "metadata": {
        "id": "JBHrSvXhorxd",
        "colab": {
          "base_uri": "https://localhost:8080/"
        },
        "outputId": "4e27a1e8-8519-434e-b07b-52b895a116bf"
      },
      "outputs": [
        {
          "output_type": "execute_result",
          "data": {
            "text/plain": [
              "array([0, 1])"
            ]
          },
          "metadata": {},
          "execution_count": 178
        }
      ],
      "source": [
        "y_train.unique()"
      ]
    },
    {
      "cell_type": "code",
      "execution_count": 179,
      "metadata": {
        "colab": {
          "base_uri": "https://localhost:8080/"
        },
        "id": "--N_hlmMINvV",
        "outputId": "8d7042f6-6dce-48ea-e836-7e157530fefa"
      },
      "outputs": [
        {
          "output_type": "execute_result",
          "data": {
            "text/plain": [
              "23467"
            ]
          },
          "metadata": {},
          "execution_count": 179
        }
      ],
      "source": [
        "y_train[y_train == 0].count()"
      ]
    },
    {
      "cell_type": "code",
      "execution_count": 180,
      "metadata": {
        "colab": {
          "base_uri": "https://localhost:8080/"
        },
        "id": "XFq2MLoOINvV",
        "outputId": "cff9a81e-f06b-4e78-9f32-e64516740ecc"
      },
      "outputs": [
        {
          "output_type": "execute_result",
          "data": {
            "text/plain": [
              "(23467, 1761)"
            ]
          },
          "metadata": {},
          "execution_count": 180
        }
      ],
      "source": [
        "not_hate = y_train[y_train == 0].count()\n",
        "hate = y_train[y_train == 1].count()\n",
        "not_hate, hate"
      ]
    },
    {
      "cell_type": "markdown",
      "metadata": {
        "id": "x3wl_crkorxd"
      },
      "source": [
        "- Cleaning and Preprocessing are:\n",
        "    - Drop Duplicates\n",
        "    - Remove some of special characters and emojis.\n",
        "       - Remove =>      @user, #, &, -, _, :, ?, \",\"\n",
        "       - keep   =>      !\n",
        "    - 3\n",
        "    - ... etc."
      ]
    },
    {
      "cell_type": "markdown",
      "metadata": {
        "id": "XyJkqK9gorxe"
      },
      "source": [
        "### Cleaning and Preprocessing"
      ]
    },
    {
      "cell_type": "markdown",
      "metadata": {
        "tags": [],
        "id": "R0jhTQ3SINvW"
      },
      "source": [
        "#### Extra: use custom scikit-learn Transformers"
      ]
    },
    {
      "cell_type": "markdown",
      "metadata": {
        "id": "h4Fe9IWQINvW"
      },
      "source": [
        "Using custom transformers in scikit-learn provides flexibility, reusability, and control over the data transformation process, allowing you to seamlessly integrate with scikit-learn's pipelines, enabling you to combine multiple preprocessing steps and modeling into a single workflow. This makes your code more modular, readable, and easier to maintain."
      ]
    },
    {
      "cell_type": "markdown",
      "metadata": {
        "tags": [],
        "id": "U2HTVIeQINvW"
      },
      "source": [
        "##### link: https://www.andrewvillazon.com/custom-scikit-learn-transformers/"
      ]
    },
    {
      "cell_type": "markdown",
      "metadata": {
        "id": "v8YPhubkINvW"
      },
      "source": [
        "#### Example usage:"
      ]
    },
    {
      "cell_type": "code",
      "source": [
        "pip install cleantext"
      ],
      "metadata": {
        "colab": {
          "base_uri": "https://localhost:8080/"
        },
        "id": "viyGfRO821Z1",
        "outputId": "0254d2ca-314f-4bf7-c9e8-e9b51fb53acb"
      },
      "execution_count": 181,
      "outputs": [
        {
          "output_type": "stream",
          "name": "stdout",
          "text": [
            "Requirement already satisfied: cleantext in /usr/local/lib/python3.10/dist-packages (1.1.4)\n",
            "Requirement already satisfied: nltk in /usr/local/lib/python3.10/dist-packages (from cleantext) (3.8.1)\n",
            "Requirement already satisfied: click in /usr/local/lib/python3.10/dist-packages (from nltk->cleantext) (8.1.7)\n",
            "Requirement already satisfied: joblib in /usr/local/lib/python3.10/dist-packages (from nltk->cleantext) (1.4.2)\n",
            "Requirement already satisfied: regex>=2021.8.3 in /usr/local/lib/python3.10/dist-packages (from nltk->cleantext) (2023.12.25)\n",
            "Requirement already satisfied: tqdm in /usr/local/lib/python3.10/dist-packages (from nltk->cleantext) (4.66.4)\n"
          ]
        }
      ]
    },
    {
      "cell_type": "code",
      "execution_count": 182,
      "metadata": {
        "id": "jgFb9eWZINvW"
      },
      "outputs": [],
      "source": [
        "from sklearn.base import BaseEstimator, TransformerMixin\n",
        "from cleantext import clean\n",
        "\n",
        "class CustomTransformer():\n",
        "    def __init__(self):\n",
        "        pass\n",
        "\n",
        "    def fit(self, X, y=None):\n",
        "        # Add code for fitting the transformer here\n",
        "        return self\n",
        "\n",
        "    def transform(self, X):\n",
        "        # Add code for transforming the data here\n",
        "        transformed_X = X.copy()\n",
        "        transformed_X = transformed_X.apply(self.preprocess)\n",
        "        return transformed_X\n",
        "\n",
        "    def preprocess(self, text):\n",
        "\n",
        "        text = text.lower()\n",
        "\n",
        "        # removed @ and #\n",
        "        text = re.sub(r'\\@\\w+|\\#','', text)\n",
        "\n",
        "        # i removed punctions but kept ! because i think it may express about angry speech\n",
        "        punctuation = string.punctuation.replace('!', '')\n",
        "        text = text.translate(str.maketrans(' ', ' ', punctuation))\n",
        "\n",
        "        # here i removed the numbers\n",
        "        text = re.sub(r'\\d+', '', text)\n",
        "\n",
        "        text = clean(text)\n",
        "\n",
        "        text = text.strip()\n",
        "\n",
        "        preprocessed_text = re.sub(r'\\s+', ' ', text)\n",
        "\n",
        "        return preprocessed_text\n",
        "\n",
        "    def fit_transform(self, X, y=None):\n",
        "        # This function combines fit and transform\n",
        "        self.fit(X, y)\n",
        "        return self.transform(X)"
      ]
    },
    {
      "cell_type": "code",
      "execution_count": 183,
      "metadata": {
        "id": "nTgCK8B-INvW"
      },
      "outputs": [],
      "source": [
        "combined = pd.concat([x_train, y_train], axis=1)"
      ]
    },
    {
      "cell_type": "code",
      "execution_count": 184,
      "metadata": {
        "colab": {
          "base_uri": "https://localhost:8080/"
        },
        "id": "xKuMyU-TINvX",
        "outputId": "f7590ddc-7803-42fd-8bae-ac1084c8dbee"
      },
      "outputs": [
        {
          "output_type": "execute_result",
          "data": {
            "text/plain": [
              "1832"
            ]
          },
          "metadata": {},
          "execution_count": 184
        }
      ],
      "source": [
        "combined.duplicated().sum()"
      ]
    },
    {
      "cell_type": "code",
      "execution_count": 185,
      "metadata": {
        "id": "_lA8w5mRINvX"
      },
      "outputs": [],
      "source": [
        "combined = combined.drop_duplicates()"
      ]
    },
    {
      "cell_type": "code",
      "execution_count": 186,
      "metadata": {
        "colab": {
          "base_uri": "https://localhost:8080/"
        },
        "id": "gyaGtSrTINvX",
        "outputId": "0d22e1ca-8a1f-4cf9-feac-d3ee86791110"
      },
      "outputs": [
        {
          "output_type": "execute_result",
          "data": {
            "text/plain": [
              "0"
            ]
          },
          "metadata": {},
          "execution_count": 186
        }
      ],
      "source": [
        "combined.duplicated().sum()"
      ]
    },
    {
      "cell_type": "code",
      "execution_count": 187,
      "metadata": {
        "colab": {
          "base_uri": "https://localhost:8080/"
        },
        "id": "56a2d1pYINvX",
        "outputId": "36b064fe-0e68-403d-fc42-58606ce70978"
      },
      "outputs": [
        {
          "output_type": "execute_result",
          "data": {
            "text/plain": [
              "18275              @user you were my childhood, why are you suppoing those who want to maintain a tax advantage over first time buyers?  \n",
              "7544     note for those who call #wn  for opposing the latest @user ad: damn right we are! get that filth off the net, you race-traitors-\n",
              "18342                                                                                                    i almost always trust brazilians\n",
              "20301                                                  people want to love in the moment, they don't want that forever love ð¯ #truth  \n",
              "15034                                                                    set of 6 glass ... gbp 24.99 get here:  #shop #cool   #home #fun\n",
              "                                                                       ...                                                               \n",
              "13123                                                   all ready to pay xx #saturday #daughter #love #pay #igers #instagood   #goodtimes\n",
              "19648                                           spend the afternoon. you can't take it with you.    #positive #goodvibes #memyselfandiâ¦\n",
              "9845                                                           a different type of recipe, but one that is easy to make - #walk #think   \n",
              "10799                                                                                        jon just ran over a squirrel ð #done #wtf\n",
              "2732                                        @user not all control battles are loud and  . they can be soft and #suppoive, too:  via @user\n",
              "Name: tweet, Length: 23396, dtype: object"
            ]
          },
          "metadata": {},
          "execution_count": 187
        }
      ],
      "source": [
        "combined.iloc[:, 0]"
      ]
    },
    {
      "cell_type": "code",
      "execution_count": 188,
      "metadata": {
        "id": "py8SoRgzINvX"
      },
      "outputs": [],
      "source": [
        "x_train = combined.iloc[:, 0]\n",
        "y_train = combined.iloc[:, 1]"
      ]
    },
    {
      "cell_type": "code",
      "source": [
        "len(x_train), len(y_train)"
      ],
      "metadata": {
        "colab": {
          "base_uri": "https://localhost:8080/"
        },
        "id": "Tkyi1bWgwOwA",
        "outputId": "6da5d932-6c2d-43fb-e0c6-b17b2825829e"
      },
      "execution_count": 189,
      "outputs": [
        {
          "output_type": "execute_result",
          "data": {
            "text/plain": [
              "(23396, 23396)"
            ]
          },
          "metadata": {},
          "execution_count": 189
        }
      ]
    },
    {
      "cell_type": "markdown",
      "metadata": {
        "id": "ba0r1ASHorxf"
      },
      "source": [
        "**You  are doing Great so far!**"
      ]
    },
    {
      "cell_type": "markdown",
      "metadata": {
        "id": "R9BhRQbYorxf"
      },
      "source": [
        "### Modelling"
      ]
    },
    {
      "cell_type": "markdown",
      "metadata": {
        "id": "Au1FYDPzorxg"
      },
      "source": [
        "#### Extra: use scikit-learn pipline"
      ]
    },
    {
      "cell_type": "markdown",
      "metadata": {
        "id": "vqlQfzncINvb"
      },
      "source": [
        "##### link: https://scikit-learn.org/stable/modules/generated/sklearn.pipeline.Pipeline.html"
      ]
    },
    {
      "cell_type": "markdown",
      "metadata": {
        "id": "9MxgFWgkINvb"
      },
      "source": [
        "Using pipelines in scikit-learn promotes better code organization, reproducibility, and efficiency in machine learning workflows."
      ]
    },
    {
      "cell_type": "markdown",
      "metadata": {
        "id": "LP5FZzmborxg"
      },
      "source": [
        "#### Example usage:"
      ]
    },
    {
      "cell_type": "code",
      "execution_count": 25,
      "metadata": {
        "tags": [],
        "id": "EZ7ujgXZINvb"
      },
      "outputs": [],
      "source": [
        "from sklearn.pipeline import Pipeline\n",
        "\n",
        "model = LogisticRegression()\n",
        "\n",
        "# Create the pipeline\n",
        "pipeline = Pipeline(steps=[\n",
        "    ('preprocessing', CustomTransformer()),\n",
        "    ('Vectorizing', CountVectorizer()),\n",
        "    ('model', model),\n",
        "])\n",
        "\n",
        "# Now you can use the pipeline for training and prediction\n",
        "# pipeline.fit(X_train, y_train)\n",
        "# pipeline.predict(X_test)"
      ]
    },
    {
      "cell_type": "code",
      "execution_count": 26,
      "metadata": {
        "colab": {
          "base_uri": "https://localhost:8080/",
          "height": 194
        },
        "id": "LtyqkMMYINvb",
        "outputId": "18d44ffd-ac24-4a9f-bea3-a80422cc845e"
      },
      "outputs": [
        {
          "output_type": "stream",
          "name": "stderr",
          "text": [
            "[nltk_data] Downloading package stopwords to /root/nltk_data...\n",
            "[nltk_data]   Unzipping corpora/stopwords.zip.\n"
          ]
        },
        {
          "output_type": "execute_result",
          "data": {
            "text/plain": [
              "Pipeline(steps=[('preprocessing',\n",
              "                 <__main__.CustomTransformer object at 0x78043ac7dc00>),\n",
              "                ('Vectorizing', CountVectorizer()),\n",
              "                ('model', LogisticRegression())])"
            ],
            "text/html": [
              "<style>#sk-container-id-1 {color: black;background-color: white;}#sk-container-id-1 pre{padding: 0;}#sk-container-id-1 div.sk-toggleable {background-color: white;}#sk-container-id-1 label.sk-toggleable__label {cursor: pointer;display: block;width: 100%;margin-bottom: 0;padding: 0.3em;box-sizing: border-box;text-align: center;}#sk-container-id-1 label.sk-toggleable__label-arrow:before {content: \"▸\";float: left;margin-right: 0.25em;color: #696969;}#sk-container-id-1 label.sk-toggleable__label-arrow:hover:before {color: black;}#sk-container-id-1 div.sk-estimator:hover label.sk-toggleable__label-arrow:before {color: black;}#sk-container-id-1 div.sk-toggleable__content {max-height: 0;max-width: 0;overflow: hidden;text-align: left;background-color: #f0f8ff;}#sk-container-id-1 div.sk-toggleable__content pre {margin: 0.2em;color: black;border-radius: 0.25em;background-color: #f0f8ff;}#sk-container-id-1 input.sk-toggleable__control:checked~div.sk-toggleable__content {max-height: 200px;max-width: 100%;overflow: auto;}#sk-container-id-1 input.sk-toggleable__control:checked~label.sk-toggleable__label-arrow:before {content: \"▾\";}#sk-container-id-1 div.sk-estimator input.sk-toggleable__control:checked~label.sk-toggleable__label {background-color: #d4ebff;}#sk-container-id-1 div.sk-label input.sk-toggleable__control:checked~label.sk-toggleable__label {background-color: #d4ebff;}#sk-container-id-1 input.sk-hidden--visually {border: 0;clip: rect(1px 1px 1px 1px);clip: rect(1px, 1px, 1px, 1px);height: 1px;margin: -1px;overflow: hidden;padding: 0;position: absolute;width: 1px;}#sk-container-id-1 div.sk-estimator {font-family: monospace;background-color: #f0f8ff;border: 1px dotted black;border-radius: 0.25em;box-sizing: border-box;margin-bottom: 0.5em;}#sk-container-id-1 div.sk-estimator:hover {background-color: #d4ebff;}#sk-container-id-1 div.sk-parallel-item::after {content: \"\";width: 100%;border-bottom: 1px solid gray;flex-grow: 1;}#sk-container-id-1 div.sk-label:hover label.sk-toggleable__label {background-color: #d4ebff;}#sk-container-id-1 div.sk-serial::before {content: \"\";position: absolute;border-left: 1px solid gray;box-sizing: border-box;top: 0;bottom: 0;left: 50%;z-index: 0;}#sk-container-id-1 div.sk-serial {display: flex;flex-direction: column;align-items: center;background-color: white;padding-right: 0.2em;padding-left: 0.2em;position: relative;}#sk-container-id-1 div.sk-item {position: relative;z-index: 1;}#sk-container-id-1 div.sk-parallel {display: flex;align-items: stretch;justify-content: center;background-color: white;position: relative;}#sk-container-id-1 div.sk-item::before, #sk-container-id-1 div.sk-parallel-item::before {content: \"\";position: absolute;border-left: 1px solid gray;box-sizing: border-box;top: 0;bottom: 0;left: 50%;z-index: -1;}#sk-container-id-1 div.sk-parallel-item {display: flex;flex-direction: column;z-index: 1;position: relative;background-color: white;}#sk-container-id-1 div.sk-parallel-item:first-child::after {align-self: flex-end;width: 50%;}#sk-container-id-1 div.sk-parallel-item:last-child::after {align-self: flex-start;width: 50%;}#sk-container-id-1 div.sk-parallel-item:only-child::after {width: 0;}#sk-container-id-1 div.sk-dashed-wrapped {border: 1px dashed gray;margin: 0 0.4em 0.5em 0.4em;box-sizing: border-box;padding-bottom: 0.4em;background-color: white;}#sk-container-id-1 div.sk-label label {font-family: monospace;font-weight: bold;display: inline-block;line-height: 1.2em;}#sk-container-id-1 div.sk-label-container {text-align: center;}#sk-container-id-1 div.sk-container {/* jupyter's `normalize.less` sets `[hidden] { display: none; }` but bootstrap.min.css set `[hidden] { display: none !important; }` so we also need the `!important` here to be able to override the default hidden behavior on the sphinx rendered scikit-learn.org. See: https://github.com/scikit-learn/scikit-learn/issues/21755 */display: inline-block !important;position: relative;}#sk-container-id-1 div.sk-text-repr-fallback {display: none;}</style><div id=\"sk-container-id-1\" class=\"sk-top-container\"><div class=\"sk-text-repr-fallback\"><pre>Pipeline(steps=[(&#x27;preprocessing&#x27;,\n",
              "                 &lt;__main__.CustomTransformer object at 0x78043ac7dc00&gt;),\n",
              "                (&#x27;Vectorizing&#x27;, CountVectorizer()),\n",
              "                (&#x27;model&#x27;, LogisticRegression())])</pre><b>In a Jupyter environment, please rerun this cell to show the HTML representation or trust the notebook. <br />On GitHub, the HTML representation is unable to render, please try loading this page with nbviewer.org.</b></div><div class=\"sk-container\" hidden><div class=\"sk-item sk-dashed-wrapped\"><div class=\"sk-label-container\"><div class=\"sk-label sk-toggleable\"><input class=\"sk-toggleable__control sk-hidden--visually\" id=\"sk-estimator-id-1\" type=\"checkbox\" ><label for=\"sk-estimator-id-1\" class=\"sk-toggleable__label sk-toggleable__label-arrow\">Pipeline</label><div class=\"sk-toggleable__content\"><pre>Pipeline(steps=[(&#x27;preprocessing&#x27;,\n",
              "                 &lt;__main__.CustomTransformer object at 0x78043ac7dc00&gt;),\n",
              "                (&#x27;Vectorizing&#x27;, CountVectorizer()),\n",
              "                (&#x27;model&#x27;, LogisticRegression())])</pre></div></div></div><div class=\"sk-serial\"><div class=\"sk-item\"><div class=\"sk-estimator sk-toggleable\"><input class=\"sk-toggleable__control sk-hidden--visually\" id=\"sk-estimator-id-2\" type=\"checkbox\" ><label for=\"sk-estimator-id-2\" class=\"sk-toggleable__label sk-toggleable__label-arrow\">CustomTransformer</label><div class=\"sk-toggleable__content\"><pre>&lt;__main__.CustomTransformer object at 0x78043ac7dc00&gt;</pre></div></div></div><div class=\"sk-item\"><div class=\"sk-estimator sk-toggleable\"><input class=\"sk-toggleable__control sk-hidden--visually\" id=\"sk-estimator-id-3\" type=\"checkbox\" ><label for=\"sk-estimator-id-3\" class=\"sk-toggleable__label sk-toggleable__label-arrow\">CountVectorizer</label><div class=\"sk-toggleable__content\"><pre>CountVectorizer()</pre></div></div></div><div class=\"sk-item\"><div class=\"sk-estimator sk-toggleable\"><input class=\"sk-toggleable__control sk-hidden--visually\" id=\"sk-estimator-id-4\" type=\"checkbox\" ><label for=\"sk-estimator-id-4\" class=\"sk-toggleable__label sk-toggleable__label-arrow\">LogisticRegression</label><div class=\"sk-toggleable__content\"><pre>LogisticRegression()</pre></div></div></div></div></div></div></div>"
            ]
          },
          "metadata": {},
          "execution_count": 26
        }
      ],
      "source": [
        "pipeline.fit(x_train, y_train)"
      ]
    },
    {
      "cell_type": "code",
      "execution_count": 27,
      "metadata": {
        "id": "ZaG73-PWINvb"
      },
      "outputs": [],
      "source": [
        "predictions = pipeline.predict(x_test)"
      ]
    },
    {
      "cell_type": "markdown",
      "metadata": {
        "id": "85JlkIQXorxg"
      },
      "source": [
        "#### Evaluation"
      ]
    },
    {
      "cell_type": "markdown",
      "metadata": {
        "id": "3y9faFRqINvb"
      },
      "source": [
        "**Evaluation metric:**\n",
        "macro f1 score\n",
        "\n",
        "Macro F1 score is a useful metric in scenarios where you want to evaluate the overall performance of a multi-class classification model, **particularly when the classes are imbalanced**"
      ]
    },
    {
      "cell_type": "markdown",
      "metadata": {
        "id": "UJHqK5wZINvc"
      },
      "source": [
        "![Calculation](https://assets-global.website-files.com/5d7b77b063a9066d83e1209c/639c3d934e82c1195cdf3c60_macro-f1.webp)"
      ]
    },
    {
      "cell_type": "code",
      "execution_count": 28,
      "metadata": {
        "colab": {
          "base_uri": "https://localhost:8080/"
        },
        "id": "UXICrcrdINvc",
        "outputId": "133feda0-2e00-4b3a-bd31-369f4a040dc0"
      },
      "outputs": [
        {
          "output_type": "execute_result",
          "data": {
            "text/plain": [
              "0.8181435309973045"
            ]
          },
          "metadata": {},
          "execution_count": 28
        }
      ],
      "source": [
        "f1_score(y_test, predictions, average='macro')"
      ]
    },
    {
      "cell_type": "markdown",
      "metadata": {
        "id": "fhVFUaIcorxh"
      },
      "source": [
        "### Enhancement\n",
        "\n",
        "- Using different N-grams\n",
        "- Using different text representation technique\n",
        "- Hyperparameter tuning"
      ]
    },
    {
      "cell_type": "markdown",
      "metadata": {
        "id": "gSz7Jw_WINvc"
      },
      "source": [
        "**N_Grams**"
      ]
    },
    {
      "cell_type": "code",
      "execution_count": 29,
      "metadata": {
        "id": "Y4h1Danvorxh",
        "colab": {
          "base_uri": "https://localhost:8080/"
        },
        "outputId": "e412fa3d-c53c-4418-a633-b9dd6831e218"
      },
      "outputs": [
        {
          "output_type": "execute_result",
          "data": {
            "text/plain": [
              "0.7986669892058218"
            ]
          },
          "metadata": {},
          "execution_count": 29
        }
      ],
      "source": [
        "pipeline1 = Pipeline(steps=[\n",
        "    ('preprocessing', CustomTransformer()),\n",
        "    ('Vectorizing', CountVectorizer(ngram_range=(1, 4))),\n",
        "    ('model', model),\n",
        "])\n",
        "\n",
        "pipeline1.fit(x_train, y_train)\n",
        "predictions = pipeline1.predict(x_test)\n",
        "\n",
        "f1_score(y_test, predictions, average='macro')"
      ]
    },
    {
      "cell_type": "markdown",
      "metadata": {
        "id": "wyVR_JFgINvc"
      },
      "source": [
        "**Another Text Representation Techniques**\n",
        "- TfidfVectorizer\n",
        "- Spacy(Glove)\n",
        "- Gensim"
      ]
    },
    {
      "cell_type": "code",
      "source": [
        "pipeline1 = Pipeline(steps=[\n",
        "    ('preprocessing', CustomTransformer()),\n",
        "    ('Vectorizing', TfidfVectorizer()),\n",
        "    ('model', LogisticRegression()),\n",
        "])\n",
        "\n",
        "pipeline1.fit(x_train, y_train)\n",
        "predictions = pipeline1.predict(x_test)\n",
        "\n",
        "f1_score(y_test, predictions, average='macro')"
      ],
      "metadata": {
        "colab": {
          "base_uri": "https://localhost:8080/"
        },
        "id": "tOgORDB70p3z",
        "outputId": "1a7470a3-1594-42cc-96df-d79dfbc254a3"
      },
      "execution_count": 190,
      "outputs": [
        {
          "output_type": "execute_result",
          "data": {
            "text/plain": [
              "0.6898352457431646"
            ]
          },
          "metadata": {},
          "execution_count": 190
        }
      ]
    },
    {
      "cell_type": "code",
      "source": [
        "! python -m spacy download en_core_web_md"
      ],
      "metadata": {
        "colab": {
          "base_uri": "https://localhost:8080/"
        },
        "id": "v1k8JxoWJA0b",
        "outputId": "4e6284a3-e1c2-4153-f591-0c866b4c1f94"
      },
      "execution_count": 30,
      "outputs": [
        {
          "output_type": "stream",
          "name": "stdout",
          "text": [
            "Collecting en-core-web-md==3.7.1\n",
            "  Downloading https://github.com/explosion/spacy-models/releases/download/en_core_web_md-3.7.1/en_core_web_md-3.7.1-py3-none-any.whl (42.8 MB)\n",
            "\u001b[2K     \u001b[90m━━━━━━━━━━━━━━━━━━━━━━━━━━━━━━━━━━━━━━━━\u001b[0m \u001b[32m42.8/42.8 MB\u001b[0m \u001b[31m32.7 MB/s\u001b[0m eta \u001b[36m0:00:00\u001b[0m\n",
            "\u001b[?25hRequirement already satisfied: spacy<3.8.0,>=3.7.2 in /usr/local/lib/python3.10/dist-packages (from en-core-web-md==3.7.1) (3.7.4)\n",
            "Requirement already satisfied: spacy-legacy<3.1.0,>=3.0.11 in /usr/local/lib/python3.10/dist-packages (from spacy<3.8.0,>=3.7.2->en-core-web-md==3.7.1) (3.0.12)\n",
            "Requirement already satisfied: spacy-loggers<2.0.0,>=1.0.0 in /usr/local/lib/python3.10/dist-packages (from spacy<3.8.0,>=3.7.2->en-core-web-md==3.7.1) (1.0.5)\n",
            "Requirement already satisfied: murmurhash<1.1.0,>=0.28.0 in /usr/local/lib/python3.10/dist-packages (from spacy<3.8.0,>=3.7.2->en-core-web-md==3.7.1) (1.0.10)\n",
            "Requirement already satisfied: cymem<2.1.0,>=2.0.2 in /usr/local/lib/python3.10/dist-packages (from spacy<3.8.0,>=3.7.2->en-core-web-md==3.7.1) (2.0.8)\n",
            "Requirement already satisfied: preshed<3.1.0,>=3.0.2 in /usr/local/lib/python3.10/dist-packages (from spacy<3.8.0,>=3.7.2->en-core-web-md==3.7.1) (3.0.9)\n",
            "Requirement already satisfied: thinc<8.3.0,>=8.2.2 in /usr/local/lib/python3.10/dist-packages (from spacy<3.8.0,>=3.7.2->en-core-web-md==3.7.1) (8.2.3)\n",
            "Requirement already satisfied: wasabi<1.2.0,>=0.9.1 in /usr/local/lib/python3.10/dist-packages (from spacy<3.8.0,>=3.7.2->en-core-web-md==3.7.1) (1.1.2)\n",
            "Requirement already satisfied: srsly<3.0.0,>=2.4.3 in /usr/local/lib/python3.10/dist-packages (from spacy<3.8.0,>=3.7.2->en-core-web-md==3.7.1) (2.4.8)\n",
            "Requirement already satisfied: catalogue<2.1.0,>=2.0.6 in /usr/local/lib/python3.10/dist-packages (from spacy<3.8.0,>=3.7.2->en-core-web-md==3.7.1) (2.0.10)\n",
            "Requirement already satisfied: weasel<0.4.0,>=0.1.0 in /usr/local/lib/python3.10/dist-packages (from spacy<3.8.0,>=3.7.2->en-core-web-md==3.7.1) (0.3.4)\n",
            "Requirement already satisfied: typer<0.10.0,>=0.3.0 in /usr/local/lib/python3.10/dist-packages (from spacy<3.8.0,>=3.7.2->en-core-web-md==3.7.1) (0.9.4)\n",
            "Requirement already satisfied: smart-open<7.0.0,>=5.2.1 in /usr/local/lib/python3.10/dist-packages (from spacy<3.8.0,>=3.7.2->en-core-web-md==3.7.1) (6.4.0)\n",
            "Requirement already satisfied: tqdm<5.0.0,>=4.38.0 in /usr/local/lib/python3.10/dist-packages (from spacy<3.8.0,>=3.7.2->en-core-web-md==3.7.1) (4.66.4)\n",
            "Requirement already satisfied: requests<3.0.0,>=2.13.0 in /usr/local/lib/python3.10/dist-packages (from spacy<3.8.0,>=3.7.2->en-core-web-md==3.7.1) (2.31.0)\n",
            "Requirement already satisfied: pydantic!=1.8,!=1.8.1,<3.0.0,>=1.7.4 in /usr/local/lib/python3.10/dist-packages (from spacy<3.8.0,>=3.7.2->en-core-web-md==3.7.1) (2.7.1)\n",
            "Requirement already satisfied: jinja2 in /usr/local/lib/python3.10/dist-packages (from spacy<3.8.0,>=3.7.2->en-core-web-md==3.7.1) (3.1.4)\n",
            "Requirement already satisfied: setuptools in /usr/local/lib/python3.10/dist-packages (from spacy<3.8.0,>=3.7.2->en-core-web-md==3.7.1) (67.7.2)\n",
            "Requirement already satisfied: packaging>=20.0 in /usr/local/lib/python3.10/dist-packages (from spacy<3.8.0,>=3.7.2->en-core-web-md==3.7.1) (24.0)\n",
            "Requirement already satisfied: langcodes<4.0.0,>=3.2.0 in /usr/local/lib/python3.10/dist-packages (from spacy<3.8.0,>=3.7.2->en-core-web-md==3.7.1) (3.4.0)\n",
            "Requirement already satisfied: numpy>=1.19.0 in /usr/local/lib/python3.10/dist-packages (from spacy<3.8.0,>=3.7.2->en-core-web-md==3.7.1) (1.25.2)\n",
            "Requirement already satisfied: language-data>=1.2 in /usr/local/lib/python3.10/dist-packages (from langcodes<4.0.0,>=3.2.0->spacy<3.8.0,>=3.7.2->en-core-web-md==3.7.1) (1.2.0)\n",
            "Requirement already satisfied: annotated-types>=0.4.0 in /usr/local/lib/python3.10/dist-packages (from pydantic!=1.8,!=1.8.1,<3.0.0,>=1.7.4->spacy<3.8.0,>=3.7.2->en-core-web-md==3.7.1) (0.7.0)\n",
            "Requirement already satisfied: pydantic-core==2.18.2 in /usr/local/lib/python3.10/dist-packages (from pydantic!=1.8,!=1.8.1,<3.0.0,>=1.7.4->spacy<3.8.0,>=3.7.2->en-core-web-md==3.7.1) (2.18.2)\n",
            "Requirement already satisfied: typing-extensions>=4.6.1 in /usr/local/lib/python3.10/dist-packages (from pydantic!=1.8,!=1.8.1,<3.0.0,>=1.7.4->spacy<3.8.0,>=3.7.2->en-core-web-md==3.7.1) (4.11.0)\n",
            "Requirement already satisfied: charset-normalizer<4,>=2 in /usr/local/lib/python3.10/dist-packages (from requests<3.0.0,>=2.13.0->spacy<3.8.0,>=3.7.2->en-core-web-md==3.7.1) (3.3.2)\n",
            "Requirement already satisfied: idna<4,>=2.5 in /usr/local/lib/python3.10/dist-packages (from requests<3.0.0,>=2.13.0->spacy<3.8.0,>=3.7.2->en-core-web-md==3.7.1) (3.7)\n",
            "Requirement already satisfied: urllib3<3,>=1.21.1 in /usr/local/lib/python3.10/dist-packages (from requests<3.0.0,>=2.13.0->spacy<3.8.0,>=3.7.2->en-core-web-md==3.7.1) (2.0.7)\n",
            "Requirement already satisfied: certifi>=2017.4.17 in /usr/local/lib/python3.10/dist-packages (from requests<3.0.0,>=2.13.0->spacy<3.8.0,>=3.7.2->en-core-web-md==3.7.1) (2024.2.2)\n",
            "Requirement already satisfied: blis<0.8.0,>=0.7.8 in /usr/local/lib/python3.10/dist-packages (from thinc<8.3.0,>=8.2.2->spacy<3.8.0,>=3.7.2->en-core-web-md==3.7.1) (0.7.11)\n",
            "Requirement already satisfied: confection<1.0.0,>=0.0.1 in /usr/local/lib/python3.10/dist-packages (from thinc<8.3.0,>=8.2.2->spacy<3.8.0,>=3.7.2->en-core-web-md==3.7.1) (0.1.4)\n",
            "Requirement already satisfied: click<9.0.0,>=7.1.1 in /usr/local/lib/python3.10/dist-packages (from typer<0.10.0,>=0.3.0->spacy<3.8.0,>=3.7.2->en-core-web-md==3.7.1) (8.1.7)\n",
            "Requirement already satisfied: cloudpathlib<0.17.0,>=0.7.0 in /usr/local/lib/python3.10/dist-packages (from weasel<0.4.0,>=0.1.0->spacy<3.8.0,>=3.7.2->en-core-web-md==3.7.1) (0.16.0)\n",
            "Requirement already satisfied: MarkupSafe>=2.0 in /usr/local/lib/python3.10/dist-packages (from jinja2->spacy<3.8.0,>=3.7.2->en-core-web-md==3.7.1) (2.1.5)\n",
            "Requirement already satisfied: marisa-trie>=0.7.7 in /usr/local/lib/python3.10/dist-packages (from language-data>=1.2->langcodes<4.0.0,>=3.2.0->spacy<3.8.0,>=3.7.2->en-core-web-md==3.7.1) (1.1.1)\n",
            "Installing collected packages: en-core-web-md\n",
            "Successfully installed en-core-web-md-3.7.1\n",
            "\u001b[38;5;2m✔ Download and installation successful\u001b[0m\n",
            "You can now load the package via spacy.load('en_core_web_md')\n",
            "\u001b[38;5;3m⚠ Restart to reload dependencies\u001b[0m\n",
            "If you are in a Jupyter or Colab notebook, you may need to restart Python in\n",
            "order to load all the package's dependencies. You can do this by selecting the\n",
            "'Restart kernel' or 'Restart runtime' option.\n"
          ]
        }
      ]
    },
    {
      "cell_type": "markdown",
      "source": [
        "**GLOVE**"
      ],
      "metadata": {
        "id": "0mslBt1hkkPw"
      }
    },
    {
      "cell_type": "code",
      "execution_count": 31,
      "metadata": {
        "id": "rMilFveTINvc"
      },
      "outputs": [],
      "source": [
        "nlp = spacy.load('en_core_web_md')"
      ]
    },
    {
      "cell_type": "code",
      "source": [
        "x1 = CustomTransformer().fit_transform(x_train)\n",
        "x1.head()"
      ],
      "metadata": {
        "colab": {
          "base_uri": "https://localhost:8080/"
        },
        "id": "MV2J4ShW1IiT",
        "outputId": "78386391-cc9d-4f86-ae93-dfae3623d18c"
      },
      "execution_count": 160,
      "outputs": [
        {
          "output_type": "execute_result",
          "data": {
            "text/plain": [
              "18275          childhood suppo want maintain tax advantag first time buyer\n",
              "7544     note call wn oppos latest ad damn right get filth net racetraitor\n",
              "18342                                         almost alway trust brazilian\n",
              "20301               peopl want love moment dont want forev love ð¯ truth\n",
              "15034                                 set glass gbp get shop cool home fun\n",
              "Name: tweet, dtype: object"
            ]
          },
          "metadata": {},
          "execution_count": 160
        }
      ]
    },
    {
      "cell_type": "code",
      "source": [
        "len(x1), len(y_train)"
      ],
      "metadata": {
        "colab": {
          "base_uri": "https://localhost:8080/"
        },
        "id": "H23uf1c5wFCb",
        "outputId": "b90fd074-8719-490c-b34e-59f485f9a720"
      },
      "execution_count": 118,
      "outputs": [
        {
          "output_type": "execute_result",
          "data": {
            "text/plain": [
              "(23397, 25228)"
            ]
          },
          "metadata": {},
          "execution_count": 118
        }
      ]
    },
    {
      "cell_type": "code",
      "source": [
        "x_train_v = np.zeros((len(x_train), 300))\n",
        "x_test_v = np.zeros((len(x_test), 300))\n",
        "\n",
        "for i, doc in enumerate(nlp.pipe(x1)):\n",
        "    x_train_v[i, :] = doc.vector\n",
        "\n",
        "for i, doc in enumerate(nlp.pipe(x_test)):\n",
        "    x_test_v[i, :] = doc.vector"
      ],
      "metadata": {
        "id": "LSgAIBYPJFKk"
      },
      "execution_count": 33,
      "outputs": []
    },
    {
      "cell_type": "code",
      "source": [
        "model = LogisticRegression(max_iter=500)\n",
        "model.fit(x_train_v, y_train)\n",
        "predictions = model.predict(x_test_v)\n",
        "\n",
        "f1_score(y_test, predictions, average='macro')"
      ],
      "metadata": {
        "colab": {
          "base_uri": "https://localhost:8080/"
        },
        "id": "JKpwNdn0OzqG",
        "outputId": "3f51550f-e203-4bb2-9d9b-902d0df19ebd"
      },
      "execution_count": 34,
      "outputs": [
        {
          "output_type": "execute_result",
          "data": {
            "text/plain": [
              "0.6251364538644731"
            ]
          },
          "metadata": {},
          "execution_count": 34
        }
      ]
    },
    {
      "cell_type": "markdown",
      "source": [
        "**Gensim**"
      ],
      "metadata": {
        "id": "nbdJFWGlkqFr"
      }
    },
    {
      "cell_type": "code",
      "source": [
        "train_sent = [row.split(\".\") for row in x1]\n",
        "train_tokenized = [sublist[0].split() for sublist in train_sent]\n",
        "\n",
        "word2vec = Word2Vec(train_tokenized,\n",
        "                          min_count=3,\n",
        "                          vector_size=100,\n",
        "                          window=3,\n",
        "                          sg=0)"
      ],
      "metadata": {
        "id": "FLYPEWM7i6EK"
      },
      "execution_count": 166,
      "outputs": []
    },
    {
      "cell_type": "code",
      "source": [
        "pd.Series(train_tokenized)"
      ],
      "metadata": {
        "colab": {
          "base_uri": "https://localhost:8080/"
        },
        "id": "_Y4g2_Cni6Ia",
        "outputId": "6531d4bb-e3e6-4643-9ee3-bc4a63b520f6"
      },
      "execution_count": 86,
      "outputs": [
        {
          "output_type": "execute_result",
          "data": {
            "text/plain": [
              "0                 [childhood, suppo, want, maintain, tax, advantag, first, time, buyer]\n",
              "1        [note, call, wn, oppos, latest, ad, damn, right, get, filth, net, racetraitor]\n",
              "2                                                     [almost, alway, trust, brazilian]\n",
              "3                     [peopl, want, love, moment, dont, want, forev, love, ð¯, truth]\n",
              "4                                         [set, glass, gbp, get, shop, cool, home, fun]\n",
              "                                              ...                                      \n",
              "23391         [readi, pay, xx, saturday, daughter, love, pay, iger, instagood, goodtim]\n",
              "23392                   [spend, afternoon, cant, take, posit, goodvib, memyselfandiâ¦]\n",
              "23393                               [differ, type, recip, one, easi, make, walk, think]\n",
              "23394                                             [jon, ran, squirrel, ð, done, wtf]\n",
              "23395                                        [control, battl, loud, soft, suppoiv, via]\n",
              "Length: 23396, dtype: object"
            ]
          },
          "metadata": {},
          "execution_count": 86
        }
      ]
    },
    {
      "cell_type": "code",
      "source": [
        "word2vec.wv[0]"
      ],
      "metadata": {
        "colab": {
          "base_uri": "https://localhost:8080/"
        },
        "id": "79d10Tb4ngKV",
        "outputId": "49652d0d-7334-46e5-9b5e-db706ff22187"
      },
      "execution_count": 59,
      "outputs": [
        {
          "output_type": "execute_result",
          "data": {
            "text/plain": [
              "array([-0.36470422,  0.87039053, -0.00648388, -0.05554286, -0.16097887,\n",
              "       -1.3730615 , -0.09811382,  1.4306861 , -0.7076815 , -0.53736824,\n",
              "        0.27361578, -0.9230445 , -0.12791973,  0.27494735,  0.04590406,\n",
              "       -0.48602778, -0.13009144, -0.16108018,  0.31629166, -1.2647496 ,\n",
              "        0.12621203,  0.51611763,  0.36407587, -0.4276884 , -0.30173057,\n",
              "       -0.25948307, -0.292025  ,  0.458892  , -0.5321031 , -0.3511609 ,\n",
              "        0.18481325, -0.2164476 ,  0.27778938, -0.77444494, -0.20947906,\n",
              "        0.8119903 ,  0.17909867, -0.60880923, -0.5475136 , -0.62688655,\n",
              "        0.30641574, -0.30525425, -1.1008073 , -0.09442446,  0.47591054,\n",
              "        0.03392561, -0.6873704 ,  0.02381719,  0.47162238,  0.41128257,\n",
              "       -0.18784167, -0.4126852 , -0.10907754,  0.3179588 , -0.1526898 ,\n",
              "        0.4122841 , -0.02151402, -0.29560632, -0.44754672,  0.7314956 ,\n",
              "        0.74504846,  0.05091804, -0.40987176, -0.28479385, -0.43422192,\n",
              "        0.4334904 ,  0.16306376,  0.73945683, -0.6960311 ,  1.0084405 ,\n",
              "       -0.3272236 ,  0.9140926 ,  0.94034415, -0.35585713,  0.5657419 ,\n",
              "        0.6107508 , -0.00731989, -0.26801708, -0.45387   , -0.13400534,\n",
              "       -0.6991744 ,  0.15966833, -0.66217434,  1.341179  , -0.36580795,\n",
              "       -0.02943987,  0.21375288,  0.21241212,  1.1254225 ,  0.19397873,\n",
              "        0.30861148,  0.20937109, -0.01275018,  0.02950581,  0.95255053,\n",
              "        0.9048708 ,  0.22679034, -0.37877202,  0.13837977,  0.36521816],\n",
              "      dtype=float32)"
            ]
          },
          "metadata": {},
          "execution_count": 59
        }
      ]
    },
    {
      "cell_type": "code",
      "source": [
        "# https://www.kaggle.com/code/kstathou/word-embeddings-logistic-regression\n",
        "\n",
        "def document_vector(doc):\n",
        "    \"\"\"Create document vectors by averaging word vectors. Remove out-of-vocabulary words.\"\"\"\n",
        "    doc = [word for word in doc if word in word2vec.wv.key_to_index]\n",
        "\n",
        "    if not doc:\n",
        "        return np.zeros(word2vec.vector_size)\n",
        "    return np.mean([word2vec.wv[word] for word in doc], axis=0)"
      ],
      "metadata": {
        "id": "j3pu_-RGnkXE"
      },
      "execution_count": 90,
      "outputs": []
    },
    {
      "cell_type": "code",
      "source": [
        "x1['doc_vector'] = pd.Series(train_tokenized).apply(document_vector)\n",
        "x_test['doc_vector'] = x_test.apply(document_vector)"
      ],
      "metadata": {
        "id": "K98s-VXvoK-J"
      },
      "execution_count": 149,
      "outputs": []
    },
    {
      "cell_type": "code",
      "source": [
        "x1['doc_vector']"
      ],
      "metadata": {
        "colab": {
          "base_uri": "https://localhost:8080/"
        },
        "id": "oH4JrzOVt6Nl",
        "outputId": "a3999e0c-5d4d-4239-9bbb-61e7c3ca91a1"
      },
      "execution_count": 150,
      "outputs": [
        {
          "output_type": "execute_result",
          "data": {
            "text/plain": [
              "0        [-0.05541523, 0.26788476, 0.11543044, 0.0048089437, 0.095442444, -0.43380132, 0.10923269, 0.49446762, -0.06488189, -0.15599471, -0.1183351, -0.33013192, -0.09655377, 0.04567255, 0.10300186, -0.18212761, -0.004630252, -0.33735475, 0.003000922, -0.4562627, 0.2594765, 0.1450267, 0.2492792, -0.048775237, -0.06430552, 0.07769963, -0.23772484, -0.090306066, -0.24443446, 0.07717265, 0.20778905, 0.062358305, 0.14810404, -0.1509816, -0.13534695, 0.25243106, -0.05178558, -0.29308784, -0.12242588, -0.4...\n",
              "1        [-0.084377006, 0.24851449, 0.11342337, -0.014248826, 0.09511699, -0.4640367, 0.1354576, 0.53322965, -0.07179531, -0.15465583, -0.13806377, -0.34910148, -0.09902184, 0.06366843, 0.11396919, -0.16861427, 0.022879977, -0.35881862, -0.029306363, -0.49346122, 0.2568024, 0.13411511, 0.24803543, -0.07017474, -0.008812878, 0.056000523, -0.2055588, -0.122456096, -0.2621875, 0.09598617, 0.24822788, 0.08756009, 0.1517838, -0.17344034, -0.13915189, 0.310237, -0.0033930843, -0.32084984, -0.11029907, -0.4...\n",
              "2        [-0.11740742, 0.28230786, 0.092194915, -0.011029816, 0.063722745, -0.50846386, 0.12262044, 0.5612734, -0.11434468, -0.17838249, -0.10033721, -0.37895787, -0.11326826, 0.069395594, 0.104042135, -0.18634796, 0.0011586173, -0.3345619, -0.016414115, -0.51977235, 0.22099036, 0.14728145, 0.2492984, -0.0987366, -0.032174222, 0.020713499, -0.18454008, -0.1052755, -0.27502525, 0.0849795, 0.25499195, 0.0593955, 0.16279285, -0.20260832, -0.14716537, 0.35745123, 0.019870987, -0.31083465, -0.12900977, -0...\n",
              "3        [-0.14468871, 0.51906794, 0.18468098, 0.04129543, 0.15961543, -0.77173316, 0.16492596, 0.82158387, -0.13191028, -0.3300771, -0.15672308, -0.57564676, -0.22067432, 0.06746418, 0.17924392, -0.29525888, -0.034593076, -0.54234743, -0.024526965, -0.7274726, 0.38269848, 0.20581225, 0.43715388, -0.14748538, -0.14877544, 0.08984251, -0.38839954, -0.23684597, -0.45644253, 0.18773912, 0.39604658, 0.03994697, 0.27827182, -0.26664415, -0.26531857, 0.46229857, -0.095580354, -0.43734208, -0.19794829, -0.7...\n",
              "4        [-0.18565755, 0.38291085, 0.07825126, 0.025959464, 0.15758571, -0.7250227, 0.16873685, 0.827062, -0.16816276, -0.2947848, -0.22379874, -0.60611266, -0.15153375, 0.09512427, 0.2266926, -0.277619, 0.025359385, -0.39722645, -0.06128455, -0.73204184, 0.4350897, 0.1875275, 0.38231316, -0.055414096, 0.0012467508, 0.011759127, -0.1609977, -0.17323583, -0.41526175, 0.115117975, 0.37523365, 0.1667922, 0.12773438, -0.4052762, -0.13517876, 0.5197978, -0.04552617, -0.48866493, -0.21035793, -0.7588794, -...\n",
              "                                                                                                                                                                                                                                                                ...                                                                                                                                                                                                                                                         \n",
              "23391    [-0.24956563, 0.41281238, 0.063943684, 0.03764873, 0.09122269, -0.72209704, 0.14032607, 0.8047124, -0.15959546, -0.27968475, -0.11020026, -0.52205044, -0.15941557, 0.10589732, 0.1304172, -0.26887992, -0.011186043, -0.39255622, -0.048394136, -0.6699053, 0.28116757, 0.19369109, 0.34383157, -0.14805126, -0.030523766, -0.026516307, -0.16702762, -0.13139452, -0.44719577, 0.11863248, 0.34912485, 0.035387356, 0.17802866, -0.31468788, -0.16232033, 0.5312607, 0.05101601, -0.3805867, -0.1941471, -0.62...\n",
              "23392    [-0.07029002, 0.29374653, 0.32511422, -0.06552883, 0.03435174, -0.6983714, 0.05943997, 0.6863013, -0.098478235, -0.21692866, -0.104233705, -0.57923526, 0.0011029989, 0.13291238, 0.25357783, -0.35568205, 0.03410004, -0.52010953, 0.059834737, -0.74336225, 0.33551744, 0.1832866, 0.41756007, -0.08292438, 0.062199716, 0.018795658, -0.33485606, -0.08655078, -0.22409849, 0.2651008, 0.4067286, 0.1172648, 0.23355325, -0.43233654, -0.24637474, 0.50804883, -0.02058378, -0.57683283, -0.111968674, -0.678...\n",
              "23393    [-0.07000146, 0.36024317, 0.15436861, -0.025140535, 0.121702075, -0.63485706, 0.15979753, 0.7118287, -0.12920001, -0.23325059, -0.15267977, -0.46886843, -0.13441399, 0.07071473, 0.17986207, -0.22751597, 0.013969376, -0.45722088, -0.0064808023, -0.6846482, 0.33570254, 0.19045755, 0.3313824, -0.09928767, -0.07845214, 0.07380541, -0.30002493, -0.14397757, -0.31010374, 0.08945127, 0.3274405, 0.09588684, 0.18712735, -0.24306232, -0.17931515, 0.40973642, -0.035229914, -0.40732408, -0.1759542, -0.5...\n",
              "23394    [-0.068012096, 0.15150799, 0.06197481, 0.0025157144, 0.052544624, -0.28638178, 0.09223819, 0.32915434, -0.038501035, -0.090900175, -0.07827706, -0.20266426, -0.06157024, 0.040182855, 0.052456092, -0.09576407, 0.014536784, -0.21677804, -0.028497456, -0.2909284, 0.15373965, 0.08317619, 0.1416003, -0.051534563, -0.0037809254, 0.03023869, -0.12066952, -0.073054366, -0.17452769, 0.057430934, 0.1429907, 0.052592903, 0.09902644, -0.091885544, -0.08289113, 0.1973452, 0.01563801, -0.18552954, -0.0729...\n",
              "23395    [-0.105016135, 0.202676, 0.07113949, 0.006330611, 0.059770137, -0.37340108, 0.103965245, 0.4160415, -0.066993445, -0.12347553, -0.079487115, -0.27001324, -0.08491471, 0.058211964, 0.055770855, -0.13623327, 0.0053710635, -0.27126357, -0.03804056, -0.3669847, 0.16750121, 0.099202074, 0.17343868, -0.08489119, -0.0061357096, 0.02864287, -0.14928086, -0.09012731, -0.23639446, 0.08253872, 0.17927617, 0.049096923, 0.13562255, -0.12197258, -0.11390489, 0.25986415, 0.021849811, -0.22237527, -0.094272...\n",
              "Length: 23396, dtype: object"
            ]
          },
          "metadata": {},
          "execution_count": 150
        }
      ]
    },
    {
      "cell_type": "code",
      "source": [
        "X_train = np.vstack(x1['doc_vector'].values)\n",
        "X_test = np.vstack(x_test['doc_vector'].values)"
      ],
      "metadata": {
        "id": "YhzPprVww2NX"
      },
      "execution_count": 151,
      "outputs": []
    },
    {
      "cell_type": "code",
      "source": [
        "model = LogisticRegression()\n",
        "model.fit(X_train, y_train)\n",
        "predictions = model.predict(X_test)\n",
        "\n",
        "f1_score(y_test, predictions, average='macro')"
      ],
      "metadata": {
        "colab": {
          "base_uri": "https://localhost:8080/"
        },
        "id": "DT-qlys_trfp",
        "outputId": "b5e6d49a-b629-4320-bf27-28022b62f8da"
      },
      "execution_count": 152,
      "outputs": [
        {
          "output_type": "execute_result",
          "data": {
            "text/plain": [
              "0.4814175300115113"
            ]
          },
          "metadata": {},
          "execution_count": 152
        }
      ]
    },
    {
      "cell_type": "markdown",
      "metadata": {
        "id": "TZg6kM4ZINvd"
      },
      "source": [
        "**Use Optuna To Tune Hyperparameters**"
      ]
    },
    {
      "cell_type": "code",
      "source": [
        "x_trans = CustomTransformer().fit_transform(x_train)"
      ],
      "metadata": {
        "id": "ebWgY__g1q2Q"
      },
      "execution_count": 156,
      "outputs": []
    },
    {
      "cell_type": "code",
      "execution_count": 157,
      "metadata": {
        "colab": {
          "base_uri": "https://localhost:8080/"
        },
        "id": "bTWT7S6yINvd",
        "outputId": "5915c4ab-0b87-453c-d980-512587a9a406"
      },
      "outputs": [
        {
          "output_type": "stream",
          "name": "stderr",
          "text": [
            "[I 2024-05-24 09:03:29,750] A new study created in memory with name: no-name-bf23e672-631c-4ebf-8aff-ad2a1806fc61\n",
            "[I 2024-05-24 09:03:33,474] Trial 0 finished with value: 0.9462728779223805 and parameters: {'C': 0.23730231431052806, 'tol': 0.00033884158527558206, 'solver': 'liblinear'}. Best is trial 0 with value: 0.9462728779223805.\n",
            "[I 2024-05-24 09:03:34,775] Trial 1 finished with value: 0.9459736833044371 and parameters: {'C': 0.2375206999645625, 'tol': 6.40684044493892e-05, 'solver': 'newton-cg'}. Best is trial 0 with value: 0.9462728779223805.\n",
            "[I 2024-05-24 09:03:35,756] Trial 2 finished with value: 0.9476834138151947 and parameters: {'C': 0.2942652127328899, 'tol': 0.0006286063893570586, 'solver': 'liblinear'}. Best is trial 2 with value: 0.9476834138151947.\n",
            "[I 2024-05-24 09:03:37,554] Trial 3 finished with value: 0.9526415281581609 and parameters: {'C': 0.767974105302214, 'tol': 0.000865955711937618, 'solver': 'lbfgs'}. Best is trial 3 with value: 0.9526415281581609.\n",
            "[I 2024-05-24 09:03:39,123] Trial 4 finished with value: 0.9500769872016197 and parameters: {'C': 0.4583662754362643, 'tol': 0.0007552430924122708, 'solver': 'lbfgs'}. Best is trial 3 with value: 0.9526415281581609.\n",
            "[I 2024-05-24 09:03:39,933] Trial 5 finished with value: 0.9516584577787931 and parameters: {'C': 0.5892115709863697, 'tol': 0.0005599504472940695, 'solver': 'liblinear'}. Best is trial 3 with value: 0.9526415281581609.\n",
            "[I 2024-05-24 09:03:41,204] Trial 6 finished with value: 0.9518294253489095 and parameters: {'C': 0.6530639864360928, 'tol': 0.0002569499471989641, 'solver': 'newton-cg'}. Best is trial 3 with value: 0.9526415281581609.\n",
            "[I 2024-05-24 09:03:42,410] Trial 7 finished with value: 0.9473414841559218 and parameters: {'C': 0.2791986900851987, 'tol': 0.00032336629587798423, 'solver': 'newton-cg'}. Best is trial 3 with value: 0.9526415281581609.\n",
            "[I 2024-05-24 09:03:43,624] Trial 8 finished with value: 0.9529407118141853 and parameters: {'C': 0.8707815560967154, 'tol': 0.0007754799337653708, 'solver': 'newton-cg'}. Best is trial 8 with value: 0.9529407118141853.\n",
            "[I 2024-05-24 09:03:45,440] Trial 9 finished with value: 0.9518294253489095 and parameters: {'C': 0.6597064836370983, 'tol': 0.0005654420881350007, 'solver': 'lbfgs'}. Best is trial 8 with value: 0.9529407118141853.\n",
            "[I 2024-05-24 09:03:46,836] Trial 10 finished with value: 0.9530261983397231 and parameters: {'C': 0.8809164729479169, 'tol': 0.0009297011432094269, 'solver': 'newton-cg'}. Best is trial 10 with value: 0.9530261983397231.\n",
            "[I 2024-05-24 09:03:48,248] Trial 11 finished with value: 0.9535818634961991 and parameters: {'C': 0.9677425154404894, 'tol': 0.0009242285896998762, 'solver': 'newton-cg'}. Best is trial 11 with value: 0.9535818634961991.\n",
            "[I 2024-05-24 09:03:49,679] Trial 12 finished with value: 0.9536673500217369 and parameters: {'C': 0.9952045492405444, 'tol': 0.0009868657773108803, 'solver': 'newton-cg'}. Best is trial 12 with value: 0.9536673500217369.\n",
            "[I 2024-05-24 09:03:51,119] Trial 13 finished with value: 0.9536673500217369 and parameters: {'C': 0.9983817567667661, 'tol': 0.0009581368887760864, 'solver': 'newton-cg'}. Best is trial 12 with value: 0.9536673500217369.\n",
            "[I 2024-05-24 09:03:52,281] Trial 14 finished with value: 0.9356300713194511 and parameters: {'C': 0.047223238424410674, 'tol': 0.000998425790246672, 'solver': 'newton-cg'}. Best is trial 12 with value: 0.9536673500217369.\n",
            "[I 2024-05-24 09:03:53,568] Trial 15 finished with value: 0.9535818634961991 and parameters: {'C': 0.9755047146155585, 'tol': 0.000735560240173222, 'solver': 'newton-cg'}. Best is trial 12 with value: 0.9536673500217369.\n",
            "[I 2024-05-24 09:03:54,833] Trial 16 finished with value: 0.9526842631994906 and parameters: {'C': 0.8254782420367872, 'tol': 0.0009991126528049947, 'solver': 'newton-cg'}. Best is trial 12 with value: 0.9536673500217369.\n",
            "[I 2024-05-24 09:03:56,019] Trial 17 finished with value: 0.9525133065912934 and parameters: {'C': 0.7407151190526762, 'tol': 0.0008246280815846103, 'solver': 'newton-cg'}. Best is trial 12 with value: 0.9536673500217369.\n",
            "[I 2024-05-24 09:03:57,647] Trial 18 finished with value: 0.9501197332048684 and parameters: {'C': 0.4704499321508834, 'tol': 0.00043200422156166755, 'solver': 'lbfgs'}. Best is trial 12 with value: 0.9536673500217369.\n",
            "[I 2024-05-24 09:03:58,481] Trial 19 finished with value: 0.9536246040184881 and parameters: {'C': 0.978908729609836, 'tol': 0.0006808183670755993, 'solver': 'liblinear'}. Best is trial 12 with value: 0.9536673500217369.\n",
            "[I 2024-05-24 09:03:59,923] Trial 20 finished with value: 0.9530261983397231 and parameters: {'C': 0.8788723968695928, 'tol': 7.972194182636298e-05, 'solver': 'newton-cg'}. Best is trial 12 with value: 0.9536673500217369.\n",
            "[I 2024-05-24 09:04:00,801] Trial 21 finished with value: 0.9537100905440261 and parameters: {'C': 0.9879592933815963, 'tol': 0.0006561946742955338, 'solver': 'liblinear'}. Best is trial 21 with value: 0.9537100905440261.\n",
            "[I 2024-05-24 09:04:01,555] Trial 22 finished with value: 0.9536246040184881 and parameters: {'C': 0.9760685702092278, 'tol': 0.0008773668553939285, 'solver': 'liblinear'}. Best is trial 21 with value: 0.9537100905440261.\n",
            "[I 2024-05-24 09:04:02,510] Trial 23 finished with value: 0.9526415226772014 and parameters: {'C': 0.7797540447679867, 'tol': 0.0008238047355005878, 'solver': 'liblinear'}. Best is trial 21 with value: 0.9537100905440261.\n",
            "[I 2024-05-24 09:04:03,445] Trial 24 finished with value: 0.9530689388620123 and parameters: {'C': 0.8981414533365046, 'tol': 0.0006616987098635997, 'solver': 'liblinear'}. Best is trial 21 with value: 0.9537100905440261.\n",
            "[I 2024-05-24 09:04:04,443] Trial 25 finished with value: 0.9521713824129799 and parameters: {'C': 0.6882673701965663, 'tol': 0.0004969254120395846, 'solver': 'liblinear'}. Best is trial 21 with value: 0.9537100905440261.\n",
            "[I 2024-05-24 09:04:05,899] Trial 26 finished with value: 0.9512310470749418 and parameters: {'C': 0.5584803725988372, 'tol': 0.0009324765458555337, 'solver': 'newton-cg'}. Best is trial 21 with value: 0.9537100905440261.\n",
            "[I 2024-05-24 09:04:07,252] Trial 27 finished with value: 0.9531971713907988 and parameters: {'C': 0.914887925099644, 'tol': 0.00019761254752375139, 'solver': 'newton-cg'}. Best is trial 21 with value: 0.9537100905440261.\n",
            "[I 2024-05-24 09:04:09,300] Trial 28 finished with value: 0.9526842631994906 and parameters: {'C': 0.8179203170179022, 'tol': 0.00044335268007224466, 'solver': 'lbfgs'}. Best is trial 21 with value: 0.9537100905440261.\n",
            "[I 2024-05-24 09:04:10,078] Trial 29 finished with value: 0.9416139691592766 and parameters: {'C': 0.11326217634921487, 'tol': 0.0007018963888318247, 'solver': 'liblinear'}. Best is trial 21 with value: 0.9537100905440261.\n",
            "[I 2024-05-24 09:04:10,828] Trial 30 finished with value: 0.9537528365472747 and parameters: {'C': 0.997239296692065, 'tol': 0.0008082421095328949, 'solver': 'liblinear'}. Best is trial 30 with value: 0.9537528365472747.\n",
            "[I 2024-05-24 09:04:11,721] Trial 31 finished with value: 0.953325398438626 and parameters: {'C': 0.916231920530898, 'tol': 0.0008361337553484754, 'solver': 'liblinear'}. Best is trial 30 with value: 0.9537528365472747.\n",
            "[I 2024-05-24 09:04:12,492] Trial 32 finished with value: 0.9537100905440261 and parameters: {'C': 0.9948678838441477, 'tol': 0.0009279290646283605, 'solver': 'liblinear'}. Best is trial 30 with value: 0.9537528365472747.\n",
            "[I 2024-05-24 09:04:13,275] Trial 33 finished with value: 0.9494358519624844 and parameters: {'C': 0.40476403535379807, 'tol': 0.0007909735955883173, 'solver': 'liblinear'}. Best is trial 30 with value: 0.9537528365472747.\n",
            "[I 2024-05-24 09:04:14,237] Trial 34 finished with value: 0.9533681444418747 and parameters: {'C': 0.9254341713286599, 'tol': 0.0008807314103889735, 'solver': 'liblinear'}. Best is trial 30 with value: 0.9537528365472747.\n",
            "[I 2024-05-24 09:04:15,097] Trial 35 finished with value: 0.9527697497250284 and parameters: {'C': 0.821937770116534, 'tol': 0.0006023928921531124, 'solver': 'liblinear'}. Best is trial 30 with value: 0.9537528365472747.\n",
            "[I 2024-05-24 09:04:15,923] Trial 36 finished with value: 0.9526415336391204 and parameters: {'C': 0.7390822390758258, 'tol': 0.000727483025588165, 'solver': 'liblinear'}. Best is trial 30 with value: 0.9537528365472747.\n",
            "[I 2024-05-24 09:04:16,742] Trial 37 finished with value: 0.9535391174929503 and parameters: {'C': 0.9353973587937642, 'tol': 0.000888702533374446, 'solver': 'liblinear'}. Best is trial 30 with value: 0.9537528365472747.\n",
            "[I 2024-05-24 09:04:17,468] Trial 38 finished with value: 0.9492648953542872 and parameters: {'C': 0.3803899909247548, 'tol': 0.0006452785123817905, 'solver': 'liblinear'}. Best is trial 30 with value: 0.9537528365472747.\n",
            "[I 2024-05-24 09:04:18,301] Trial 39 finished with value: 0.952812484766358 and parameters: {'C': 0.8401332556100733, 'tol': 0.0007609258821854768, 'solver': 'liblinear'}. Best is trial 30 with value: 0.9537528365472747.\n",
            "[I 2024-05-24 09:04:20,174] Trial 40 finished with value: 0.9526415281581609 and parameters: {'C': 0.7699514085508568, 'tol': 0.0008026893859173346, 'solver': 'lbfgs'}. Best is trial 30 with value: 0.9537528365472747.\n",
            "[I 2024-05-24 09:04:21,012] Trial 41 finished with value: 0.9536246040184881 and parameters: {'C': 0.9766101243492812, 'tol': 0.0009406054293758493, 'solver': 'liblinear'}. Best is trial 30 with value: 0.9537528365472747.\n",
            "[I 2024-05-24 09:04:22,366] Trial 42 finished with value: 0.9536246040184881 and parameters: {'C': 0.9809787033593206, 'tol': 0.0009932435203528003, 'solver': 'newton-cg'}. Best is trial 30 with value: 0.9537528365472747.\n",
            "[I 2024-05-24 09:04:23,789] Trial 43 finished with value: 0.9536673500217369 and parameters: {'C': 0.9965795529762275, 'tol': 0.0009459502498806521, 'solver': 'newton-cg'}. Best is trial 30 with value: 0.9537528365472747.\n",
            "[I 2024-05-24 09:04:24,620] Trial 44 finished with value: 0.9535391174929503 and parameters: {'C': 0.937155289853672, 'tol': 0.0008601193129885622, 'solver': 'liblinear'}. Best is trial 30 with value: 0.9537528365472747.\n",
            "[I 2024-05-24 09:04:25,969] Trial 45 finished with value: 0.9529407118141853 and parameters: {'C': 0.8721487670323799, 'tol': 0.0009577960183436167, 'solver': 'newton-cg'}. Best is trial 30 with value: 0.9537528365472747.\n",
            "[I 2024-05-24 09:04:27,651] Trial 46 finished with value: 0.9529407118141853 and parameters: {'C': 0.8719791559591978, 'tol': 0.0009050124145942753, 'solver': 'lbfgs'}. Best is trial 30 with value: 0.9537528365472747.\n",
            "[I 2024-05-24 09:04:28,939] Trial 47 finished with value: 0.9534963714897017 and parameters: {'C': 0.9407506675465893, 'tol': 0.0005871232851741573, 'solver': 'newton-cg'}. Best is trial 30 with value: 0.9537528365472747.\n",
            "[I 2024-05-24 09:04:29,723] Trial 48 finished with value: 0.9440502721060717 and parameters: {'C': 0.16931596255221137, 'tol': 0.0009689335647871104, 'solver': 'liblinear'}. Best is trial 30 with value: 0.9537528365472747.\n",
            "[I 2024-05-24 09:04:30,967] Trial 49 finished with value: 0.951615717256504 and parameters: {'C': 0.6056569129035729, 'tol': 0.0005217897876684014, 'solver': 'newton-cg'}. Best is trial 30 with value: 0.9537528365472747.\n",
            "[I 2024-05-24 09:04:31,713] Trial 50 finished with value: 0.9537100905440261 and parameters: {'C': 0.9942738392898116, 'tol': 0.0008584866284963807, 'solver': 'liblinear'}. Best is trial 30 with value: 0.9537528365472747.\n",
            "[I 2024-05-24 09:04:32,491] Trial 51 finished with value: 0.9535818634961991 and parameters: {'C': 0.9459849486145426, 'tol': 0.0008502492579946188, 'solver': 'liblinear'}. Best is trial 30 with value: 0.9537528365472747.\n",
            "[I 2024-05-24 09:04:33,299] Trial 52 finished with value: 0.9537528365472747 and parameters: {'C': 0.9990453505858727, 'tol': 0.0009042810661801793, 'solver': 'liblinear'}. Best is trial 30 with value: 0.9537528365472747.\n",
            "[I 2024-05-24 09:04:34,111] Trial 53 finished with value: 0.9537100905440261 and parameters: {'C': 0.9936037377615059, 'tol': 0.000770905813930386, 'solver': 'liblinear'}. Best is trial 30 with value: 0.9537528365472747.\n",
            "[I 2024-05-24 09:04:34,941] Trial 54 finished with value: 0.9528552252886474 and parameters: {'C': 0.8463558552952968, 'tol': 0.000771099526169982, 'solver': 'liblinear'}. Best is trial 30 with value: 0.9537528365472747.\n",
            "[I 2024-05-24 09:04:35,782] Trial 55 finished with value: 0.9531116848652611 and parameters: {'C': 0.9006416766763605, 'tol': 0.0007041377853109405, 'solver': 'liblinear'}. Best is trial 30 with value: 0.9537528365472747.\n",
            "[I 2024-05-24 09:04:36,637] Trial 56 finished with value: 0.9535818634961991 and parameters: {'C': 0.9509453954105348, 'tol': 0.0008043547518113782, 'solver': 'liblinear'}. Best is trial 30 with value: 0.9537528365472747.\n",
            "[I 2024-05-24 09:04:37,602] Trial 57 finished with value: 0.9537100905440261 and parameters: {'C': 0.9957166529616311, 'tol': 0.0007222482273601086, 'solver': 'liblinear'}. Best is trial 30 with value: 0.9537528365472747.\n",
            "[I 2024-05-24 09:04:38,586] Trial 58 finished with value: 0.9527270037217798 and parameters: {'C': 0.7937632349689298, 'tol': 0.0009039558941129205, 'solver': 'liblinear'}. Best is trial 30 with value: 0.9537528365472747.\n",
            "[I 2024-05-24 09:04:39,620] Trial 59 finished with value: 0.9530689388620123 and parameters: {'C': 0.897738817330315, 'tol': 0.0007586629170437981, 'solver': 'liblinear'}. Best is trial 30 with value: 0.9537528365472747.\n",
            "[I 2024-05-24 09:04:40,551] Trial 60 finished with value: 0.9525987985977907 and parameters: {'C': 0.7313375639695671, 'tol': 0.0006264138475097251, 'solver': 'liblinear'}. Best is trial 30 with value: 0.9537528365472747.\n",
            "[I 2024-05-24 09:04:41,529] Trial 61 finished with value: 0.9537528365472747 and parameters: {'C': 0.9978372688981724, 'tol': 0.0007225297198741914, 'solver': 'liblinear'}. Best is trial 30 with value: 0.9537528365472747.\n",
            "[I 2024-05-24 09:04:42,504] Trial 62 finished with value: 0.9535391174929503 and parameters: {'C': 0.9573139686172114, 'tol': 0.0008377129191873376, 'solver': 'liblinear'}. Best is trial 30 with value: 0.9537528365472747.\n",
            "[I 2024-05-24 09:04:43,345] Trial 63 finished with value: 0.9537528365472747 and parameters: {'C': 0.9971711684170949, 'tol': 0.0006774384931969839, 'solver': 'liblinear'}. Best is trial 30 with value: 0.9537528365472747.\n",
            "[I 2024-05-24 09:04:44,106] Trial 64 finished with value: 0.9535391174929503 and parameters: {'C': 0.9538433401299136, 'tol': 0.0006710830978488146, 'solver': 'liblinear'}. Best is trial 30 with value: 0.9537528365472747.\n",
            "[I 2024-05-24 09:04:44,975] Trial 65 finished with value: 0.9528552198076877 and parameters: {'C': 0.8510767481784566, 'tol': 0.0006905251453515821, 'solver': 'liblinear'}. Best is trial 30 with value: 0.9537528365472747.\n",
            "[I 2024-05-24 09:04:45,835] Trial 66 finished with value: 0.9532826524353771 and parameters: {'C': 0.9116006678002349, 'tol': 0.0008211880344438637, 'solver': 'liblinear'}. Best is trial 30 with value: 0.9537528365472747.\n",
            "[I 2024-05-24 09:04:46,685] Trial 67 finished with value: 0.9537528365472747 and parameters: {'C': 0.999679371967533, 'tol': 0.0006320690476014308, 'solver': 'liblinear'}. Best is trial 30 with value: 0.9537528365472747.\n",
            "[I 2024-05-24 09:04:47,514] Trial 68 finished with value: 0.9535391174929503 and parameters: {'C': 0.9599457632398999, 'tol': 0.0006288832942549602, 'solver': 'liblinear'}. Best is trial 30 with value: 0.9537528365472747.\n",
            "[I 2024-05-24 09:04:49,367] Trial 69 finished with value: 0.9530262038206826 and parameters: {'C': 0.8881797379014469, 'tol': 0.000530312626010536, 'solver': 'lbfgs'}. Best is trial 30 with value: 0.9537528365472747.\n",
            "[I 2024-05-24 09:04:50,187] Trial 70 finished with value: 0.953325398438626 and parameters: {'C': 0.917108609056448, 'tol': 0.0005832592280523251, 'solver': 'liblinear'}. Best is trial 30 with value: 0.9537528365472747.\n",
            "[I 2024-05-24 09:04:50,937] Trial 71 finished with value: 0.9537100905440261 and parameters: {'C': 0.9945695483638772, 'tol': 0.0007352767823841077, 'solver': 'liblinear'}. Best is trial 30 with value: 0.9537528365472747.\n",
            "[I 2024-05-24 09:04:51,684] Trial 72 finished with value: 0.9535391174929503 and parameters: {'C': 0.9650355074596446, 'tol': 0.0009090452966489682, 'solver': 'liblinear'}. Best is trial 30 with value: 0.9537528365472747.\n",
            "[I 2024-05-24 09:04:52,528] Trial 73 finished with value: 0.9533681444418747 and parameters: {'C': 0.9245678423560189, 'tol': 0.0006570033132897356, 'solver': 'liblinear'}. Best is trial 30 with value: 0.9537528365472747.\n",
            "[I 2024-05-24 09:04:53,405] Trial 74 finished with value: 0.9535391174929503 and parameters: {'C': 0.9680716548642392, 'tol': 0.0004589371249372167, 'solver': 'liblinear'}. Best is trial 30 with value: 0.9537528365472747.\n",
            "[I 2024-05-24 09:04:54,389] Trial 75 finished with value: 0.9537528365472747 and parameters: {'C': 0.9970004241480416, 'tol': 0.0008614418059980884, 'solver': 'liblinear'}. Best is trial 30 with value: 0.9537528365472747.\n",
            "[I 2024-05-24 09:04:55,368] Trial 76 finished with value: 0.9529407063332257 and parameters: {'C': 0.860798963285538, 'tol': 0.000551979677601836, 'solver': 'liblinear'}. Best is trial 30 with value: 0.9537528365472747.\n",
            "[I 2024-05-24 09:04:56,307] Trial 77 finished with value: 0.9485810086309437 and parameters: {'C': 0.3279740134171245, 'tol': 0.0006193953378574482, 'solver': 'liblinear'}. Best is trial 30 with value: 0.9537528365472747.\n",
            "[I 2024-05-24 09:04:57,204] Trial 78 finished with value: 0.952769744244069 and parameters: {'C': 0.8026116881810594, 'tol': 0.0007955055816587402, 'solver': 'liblinear'}. Best is trial 30 with value: 0.9537528365472747.\n",
            "[I 2024-05-24 09:04:58,112] Trial 79 finished with value: 0.9505471548706388 and parameters: {'C': 0.5109877008862965, 'tol': 4.8775325219133124e-06, 'solver': 'liblinear'}. Best is trial 30 with value: 0.9537528365472747.\n",
            "[I 2024-05-24 09:05:00,051] Trial 80 finished with value: 0.9532826524353771 and parameters: {'C': 0.9271786767425296, 'tol': 0.000359719074961187, 'solver': 'lbfgs'}. Best is trial 30 with value: 0.9537528365472747.\n",
            "[I 2024-05-24 09:05:00,878] Trial 81 finished with value: 0.9536246040184881 and parameters: {'C': 0.9764715228756216, 'tol': 0.000871840548456308, 'solver': 'liblinear'}. Best is trial 30 with value: 0.9537528365472747.\n",
            "[I 2024-05-24 09:05:01,698] Trial 82 finished with value: 0.9537528365472747 and parameters: {'C': 0.9987919481196248, 'tol': 0.0009226140415301707, 'solver': 'liblinear'}. Best is trial 30 with value: 0.9537528365472747.\n",
            "[I 2024-05-24 09:05:02,523] Trial 83 finished with value: 0.9535391174929503 and parameters: {'C': 0.9435841693641951, 'tol': 0.0009258196415986112, 'solver': 'liblinear'}. Best is trial 30 with value: 0.9537528365472747.\n",
            "[I 2024-05-24 09:05:03,361] Trial 84 finished with value: 0.9537528365472747 and parameters: {'C': 0.9996935491941794, 'tol': 0.0008945804289507068, 'solver': 'liblinear'}. Best is trial 30 with value: 0.9537528365472747.\n",
            "[I 2024-05-24 09:05:04,157] Trial 85 finished with value: 0.9531544199065906 and parameters: {'C': 0.8927383946324423, 'tol': 0.0007185726756596549, 'solver': 'liblinear'}. Best is trial 30 with value: 0.9537528365472747.\n",
            "[I 2024-05-24 09:05:04,982] Trial 86 finished with value: 0.9535391174929503 and parameters: {'C': 0.9676407745771552, 'tol': 0.0007480992562109021, 'solver': 'liblinear'}. Best is trial 30 with value: 0.9537528365472747.\n",
            "[I 2024-05-24 09:05:05,802] Trial 87 finished with value: 0.9534963714897017 and parameters: {'C': 0.9336247343662791, 'tol': 0.0009750596733720796, 'solver': 'liblinear'}. Best is trial 30 with value: 0.9537528365472747.\n",
            "[I 2024-05-24 09:05:06,539] Trial 88 finished with value: 0.9537528365472747 and parameters: {'C': 0.9994537463907118, 'tol': 0.0008956287891904826, 'solver': 'liblinear'}. Best is trial 30 with value: 0.9537528365472747.\n",
            "[I 2024-05-24 09:05:07,382] Trial 89 finished with value: 0.9535391174929503 and parameters: {'C': 0.964931040460535, 'tol': 0.0008222748376414561, 'solver': 'liblinear'}. Best is trial 30 with value: 0.9537528365472747.\n",
            "[I 2024-05-24 09:05:08,005] Trial 90 finished with value: 0.9339630922929016 and parameters: {'C': 0.027661437873145456, 'tol': 0.0008999897438313772, 'solver': 'liblinear'}. Best is trial 30 with value: 0.9537528365472747.\n",
            "[I 2024-05-24 09:05:08,751] Trial 91 finished with value: 0.9537528365472747 and parameters: {'C': 0.9999118947005582, 'tol': 0.0008789318469949748, 'solver': 'liblinear'}. Best is trial 30 with value: 0.9537528365472747.\n",
            "[I 2024-05-24 09:05:09,636] Trial 92 finished with value: 0.9536246040184881 and parameters: {'C': 0.977489750967547, 'tol': 0.0008754744266095067, 'solver': 'liblinear'}. Best is trial 30 with value: 0.9537528365472747.\n",
            "[I 2024-05-24 09:05:10,549] Trial 93 finished with value: 0.9537100905440261 and parameters: {'C': 0.9952298894780427, 'tol': 0.0008608849018842178, 'solver': 'liblinear'}. Best is trial 30 with value: 0.9537528365472747.\n",
            "[I 2024-05-24 09:05:11,570] Trial 94 finished with value: 0.9535818634961991 and parameters: {'C': 0.9488827474420463, 'tol': 0.0009407304243335714, 'solver': 'liblinear'}. Best is trial 30 with value: 0.9537528365472747.\n",
            "[I 2024-05-24 09:05:12,496] Trial 95 finished with value: 0.9531971713907988 and parameters: {'C': 0.9072734179935237, 'tol': 0.0007822461128684965, 'solver': 'liblinear'}. Best is trial 30 with value: 0.9537528365472747.\n",
            "[I 2024-05-24 09:05:13,412] Trial 96 finished with value: 0.9537528365472747 and parameters: {'C': 0.9985225846749988, 'tol': 0.0008407815300373333, 'solver': 'liblinear'}. Best is trial 30 with value: 0.9537528365472747.\n",
            "[I 2024-05-24 09:05:14,386] Trial 97 finished with value: 0.9534963714897017 and parameters: {'C': 0.9314210167431155, 'tol': 0.000887301694865387, 'solver': 'liblinear'}. Best is trial 30 with value: 0.9537528365472747.\n",
            "[I 2024-05-24 09:05:16,241] Trial 98 finished with value: 0.9530262038206826 and parameters: {'C': 0.8814922615511396, 'tol': 0.0009153723039512082, 'solver': 'lbfgs'}. Best is trial 30 with value: 0.9537528365472747.\n",
            "[I 2024-05-24 09:05:17,159] Trial 99 finished with value: 0.9535818580152395 and parameters: {'C': 0.9716520089652393, 'tol': 0.000808840452106815, 'solver': 'liblinear'}. Best is trial 30 with value: 0.9537528365472747.\n"
          ]
        },
        {
          "output_type": "stream",
          "name": "stdout",
          "text": [
            "Best hyperparameters:  {'C': 0.997239296692065, 'tol': 0.0008082421095328949, 'solver': 'liblinear'}\n",
            "Best performance:  0.9537528365472747\n"
          ]
        }
      ],
      "source": [
        "def objective(trial):\n",
        "    lg_c = trial.suggest_float('C', 1e-2, 1)\n",
        "    lg_tol = trial.suggest_float('tol', 1e-6 , 1e-3)\n",
        "    lg_solver = trial.suggest_categorical('solver' , ['newton-cg', 'lbfgs','liblinear'])\n",
        "\n",
        "    lg = LogisticRegression(C=lg_c, tol=lg_tol, solver=lg_solver)\n",
        "\n",
        "    x_vectorized = CountVectorizer().fit_transform(x_trans)\n",
        "\n",
        "    return cross_val_score(lg, x_vectorized, y_train, n_jobs=-1, cv=3).mean()\n",
        "\n",
        "\n",
        "study = optuna.create_study(direction='maximize')\n",
        "study.optimize(objective, n_trials=100)\n",
        "\n",
        "print('Best hyperparameters: ', study.best_params)\n",
        "print('Best performance: ', study.best_value)"
      ]
    },
    {
      "cell_type": "markdown",
      "metadata": {
        "id": "xXCoRNXwINvd"
      },
      "source": [
        "### Conclusion and final results\n"
      ]
    },
    {
      "cell_type": "code",
      "execution_count": 191,
      "metadata": {
        "colab": {
          "base_uri": "https://localhost:8080/"
        },
        "id": "sME_k4dvINvd",
        "outputId": "3cd04ed3-02d0-4465-cf92-266bbd73f2c5"
      },
      "outputs": [
        {
          "output_type": "execute_result",
          "data": {
            "text/plain": [
              "0.8181435309973045"
            ]
          },
          "metadata": {},
          "execution_count": 191
        }
      ],
      "source": [
        "pipeline2 = Pipeline(steps=[\n",
        "    ('preprocessing', CustomTransformer()),\n",
        "    ('Vectorizing', CountVectorizer()),\n",
        "    ('model', LogisticRegression(C=0.997239296692065, tol=0.0008082421095328949, solver='liblinear')),\n",
        "])\n",
        "\n",
        "pipeline2.fit(x_train, y_train)\n",
        "predictions = pipeline2.predict(x_test)\n",
        "\n",
        "f1_score(y_test, predictions, average='macro')"
      ]
    },
    {
      "cell_type": "markdown",
      "metadata": {
        "id": "oaBNeTndINvd"
      },
      "source": [
        "- Using CountVectorizer(80) is more better than TF-IDF Vectorizer(68), Glove(62) and Gensim(48)\n",
        "- Using N-Grams = 1 was with the best result than using n_grams=2, 3, 4 or 5. AS N_Grams increase, f1_score decreases"
      ]
    },
    {
      "cell_type": "markdown",
      "metadata": {
        "id": "Nw1GVnYLorxi"
      },
      "source": [
        "#### Done!"
      ]
    }
  ],
  "metadata": {
    "colab": {
      "provenance": [],
      "gpuType": "T4"
    },
    "kernelspec": {
      "display_name": "Python 3",
      "name": "python3"
    },
    "language_info": {
      "codemirror_mode": {
        "name": "ipython",
        "version": 3
      },
      "file_extension": ".py",
      "mimetype": "text/x-python",
      "name": "python",
      "nbconvert_exporter": "python",
      "pygments_lexer": "ipython3",
      "version": "3.12.0"
    },
    "accelerator": "GPU"
  },
  "nbformat": 4,
  "nbformat_minor": 0
}