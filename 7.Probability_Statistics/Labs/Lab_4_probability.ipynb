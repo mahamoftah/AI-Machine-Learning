{
 "cells": [
  {
   "cell_type": "code",
   "execution_count": 87,
   "id": "45b4699d",
   "metadata": {},
   "outputs": [],
   "source": [
    "import numpy as np\n",
    "from math import sqrt"
   ]
  },
  {
   "cell_type": "code",
   "execution_count": 88,
   "id": "2c9a9197",
   "metadata": {},
   "outputs": [
    {
     "name": "stdout",
     "output_type": "stream",
     "text": [
      "Population mean =  3.5011791226738254\n",
      "Population variance =  0.7496311574244577\n"
     ]
    }
   ],
   "source": [
    "population = np.random.uniform(2, 5, 1000000)\n",
    "print(\"Population mean = \", population.mean())\n",
    "print(\"Population variance = \", population.var())"
   ]
  },
  {
   "cell_type": "code",
   "execution_count": 89,
   "id": "2738f5f9",
   "metadata": {},
   "outputs": [],
   "source": [
    "sample_size = 50\n",
    "number_of_samples = 10000"
   ]
  },
  {
   "cell_type": "code",
   "execution_count": 90,
   "id": "18b93ff9",
   "metadata": {},
   "outputs": [
    {
     "name": "stdout",
     "output_type": "stream",
     "text": [
      "(10000, 50)\n"
     ]
    }
   ],
   "source": [
    "samples = np.random.choice(population, size=(number_of_samples, sample_size))\n",
    "print(samples.shape)"
   ]
  },
  {
   "cell_type": "code",
   "execution_count": 91,
   "id": "c0c0d6e0",
   "metadata": {},
   "outputs": [
    {
     "name": "stdout",
     "output_type": "stream",
     "text": [
      "(10000,)\n",
      "3.4992953321973315\n"
     ]
    }
   ],
   "source": [
    "avg_of_samples = samples.mean(axis= 1)\n",
    "print(avg_of_samples.shape)\n",
    "overall_avg = avg_of_samples.mean()\n",
    "print(overall_avg)"
   ]
  },
  {
   "cell_type": "code",
   "execution_count": 92,
   "id": "2871cbc3",
   "metadata": {},
   "outputs": [
    {
     "name": "stdout",
     "output_type": "stream",
     "text": [
      "()\n",
      "0.01452904597114557\n"
     ]
    }
   ],
   "source": [
    "variance_of_samples = avg_of_samples.var()\n",
    "print(variance_of_samples.shape)\n",
    "print(variance_of_samples)"
   ]
  },
  {
   "cell_type": "code",
   "execution_count": 93,
   "id": "92a58668",
   "metadata": {},
   "outputs": [
    {
     "data": {
      "image/png": "[encoded data removed]",
      "text/plain": [
       "<Figure size 640x480 with 1 Axes>"
      ]
     },
     "metadata": {},
     "output_type": "display_data"
    }
   ],
   "source": [
    "import matplotlib.pyplot as plt\n",
    "plt.hist(avg_of_samples, bins= 200, alpha= 0.5)\n",
    "\n",
    "#####################################################\n",
    "\n",
    "normal = np.random.normal(overall_avg, sqrt(variance_of_samples), number_of_samples)\n",
    "plt.hist(normal, bins= 200, alpha= 0.5)\n",
    "plt.show()\n"
   ]
  },
  {
   "cell_type": "code",
   "execution_count": 104,
   "id": "2452957e",
   "metadata": {},
   "outputs": [],
   "source": [
    "import numpy as np\n",
    "from scipy.stats import t\n",
    "from scipy.stats import norm\n",
    "\n",
    "\n",
    "def CI_X(X_bar, n, var, CL):\n",
    "\n",
    "    SE = np.sqrt(var / n)\n",
    "    print(\"SE = \",SE)\n",
    "    # Standard Error #\n",
    "\n",
    "    alpha = 1 - CL / 100\n",
    "    print(\"alpha = \",alpha)\n",
    "    \n",
    "    if n < 30:\n",
    "        degrees_of_freedom = n - 1\n",
    "        print(\"degree of freedom = \",degrees_of_freedom)\n",
    "        t_critical = t.ppf(1 - alpha / 2, degrees_of_freedom)\n",
    "        print(\"t_critical = \",t_critical)\n",
    "        margin_of_error = t_critical * SE\n",
    "    else:\n",
    "        z_critical = norm.ppf(1 - alpha / 2)\n",
    "        print(\"z_critical = \",z_critical)\n",
    "        margin_of_error = z_critical * SE\n",
    "    \n",
    "    print(\"margin_of_error = \",margin_of_error)    \n",
    "    lower_bound = X_bar - margin_of_error\n",
    "    upper_bound = X_bar + margin_of_error\n",
    "\n",
    "    return lower_bound, upper_bound\n",
    "\n"
   ]
  },
  {
   "cell_type": "code",
   "execution_count": 113,
   "id": "72bd7f05",
   "metadata": {},
   "outputs": [],
   "source": [
    "import numpy as np\n",
    "from scipy.stats import t\n",
    "from scipy.stats import norm\n",
    "\n",
    "def CI_P(P_hat, n, CL):\n",
    "\n",
    "    ESE = np.sqrt((P_hat * (1 - P_hat)) / n)\n",
    "    print(\"ESE = \", ESE)\n",
    "    # Standard Error #\n",
    "    \n",
    "    alpha = 1 - CL / 100\n",
    "    print(\"alpha = \",alpha)\n",
    "\n",
    "    if n < 30:\n",
    "        degrees_of_freedom = n - 1\n",
    "        print(\"degree of freedom = \",degrees_of_freedom)\n",
    "        t_critical = t.ppf(1 - alpha / 2, degrees_of_freedom)\n",
    "        print(\"t_critical = \",t_critical)\n",
    "        margin_of_error = t_critical * ESE\n",
    "    else:\n",
    "        z_critical = norm.ppf(1 - alpha / 2)\n",
    "        print(\"z_critical = \",z_critical)\n",
    "        margin_of_error = z_critical * ESE\n",
    "        \n",
    "    print(\"margin_of_error = \",margin_of_error)    \n",
    "    lower_bound = P_hat - margin_of_error\n",
    "    upper_bound = P_hat + margin_of_error\n",
    "\n",
    "    return lower_bound, upper_bound\n"
   ]
  },
  {
   "cell_type": "code",
   "execution_count": 114,
   "id": "0d6980e1",
   "metadata": {},
   "outputs": [
    {
     "name": "stdout",
     "output_type": "stream",
     "text": [
      "SE =  25.81988897471611\n",
      "alpha =  0.050000000000000044\n",
      "z_critical =  1.959963984540054\n",
      "margin_of_error =  50.6060524752664\n",
      "(949.3939475247336, 1050.6060524752663)\n"
     ]
    }
   ],
   "source": [
    "print(CI_X(1000, 60, 40000, 95))"
   ]
  },
  {
   "cell_type": "code",
   "execution_count": 115,
   "id": "3dfe5e87",
   "metadata": {},
   "outputs": [
    {
     "name": "stdout",
     "output_type": "stream",
     "text": [
      "ESE =  0.016128163164440754\n",
      "alpha =  0.050000000000000044\n",
      "z_critical =  1.959963984540054\n",
      "margin_of_error =  0.031610618939089424\n",
      "(0.6383893810609106, 0.7016106189390895)\n"
     ]
    }
   ],
   "source": [
    "print(CI_P(0.67, 850, 95))"
   ]
  },
  {
   "cell_type": "code",
   "execution_count": 116,
   "id": "c80c7b11",
   "metadata": {},
   "outputs": [
    {
     "name": "stdout",
     "output_type": "stream",
     "text": [
      "ESE =  0.06123724356957945\n",
      "alpha =  0.010000000000000009\n",
      "z_critical =  2.5758293035489004\n",
      "margin_of_error =  0.1577366864550842\n",
      "(0.09226331354491579, 0.4077366864550842)\n"
     ]
    }
   ],
   "source": [
    "print(CI_P(0.25, 50, 99))"
   ]
  },
  {
   "cell_type": "code",
   "execution_count": 117,
   "id": "bc4d53ef",
   "metadata": {},
   "outputs": [
    {
     "name": "stdout",
     "output_type": "stream",
     "text": [
      "SE =  0.09486832980505137\n",
      "alpha =  0.050000000000000044\n",
      "degree of freedom =  9\n",
      "t_critical =  2.2621571627409915\n",
      "margin_of_error =  0.21460707178577165\n",
      "(0.28539292821422835, 0.7146070717857717)\n"
     ]
    }
   ],
   "source": [
    "print(CI_X(0.5, 10, 0.09, 95))"
   ]
  },
  {
   "cell_type": "code",
   "execution_count": null,
   "id": "668f6fdf",
   "metadata": {},
   "outputs": [],
   "source": []
  }
 ],
 "metadata": {
  "kernelspec": {
   "display_name": "Python 3 (ipykernel)",
   "language": "python",
   "name": "python3"
  },
  "language_info": {
   "codemirror_mode": {
    "name": "ipython",
    "version": 3
   },
   "file_extension": ".py",
   "mimetype": "text/x-python",
   "name": "python",
   "nbconvert_exporter": "python",
   "pygments_lexer": "ipython3",
   "version": "3.11.5"
  }
 },
 "nbformat": 4,
 "nbformat_minor": 5
}
